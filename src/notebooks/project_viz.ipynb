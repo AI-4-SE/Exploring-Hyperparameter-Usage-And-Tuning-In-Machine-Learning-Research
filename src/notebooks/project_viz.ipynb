{
 "cells": [
  {
   "cell_type": "code",
   "execution_count": null,
   "metadata": {},
   "outputs": [],
   "source": [
    "from typing import List\n",
    "import json\n",
    "import plotly.graph_objs as go\n",
    "\n",
    "from ml_object import SklearnModule\n",
    "from eval_algorithm_specific import get_key_value_pairs, check_for_default_values\n",
    "from eval_project_specific import create_modules\n",
    "\n",
    "STATISTICS_DIR = \"data/statistics/\"\n",
    "SKL_MODULES_FILE = \"data/sklearn/modules/sklearn_modules.json\"\n",
    "TEST_PROJECT = \"data/statistics/statistics_alignarr.json\"\n",
    "ALL_PROJECTS = \"data/statistics/*\""
   ]
  },
  {
   "cell_type": "code",
   "execution_count": null,
   "metadata": {},
   "outputs": [],
   "source": [
    "with open(SKL_MODULES_FILE) as f:\n",
    "    skl_modules_json = json.load(f)"
   ]
  },
  {
   "cell_type": "code",
   "execution_count": null,
   "metadata": {},
   "outputs": [],
   "source": [
    "sklearn_modules = create_modules(skl_modules_json)\n",
    "\n",
    "print(sklearn_modules)"
   ]
  }
 ],
 "metadata": {
  "language_info": {
   "name": "python"
  },
  "orig_nbformat": 4
 },
 "nbformat": 4,
 "nbformat_minor": 2
}
