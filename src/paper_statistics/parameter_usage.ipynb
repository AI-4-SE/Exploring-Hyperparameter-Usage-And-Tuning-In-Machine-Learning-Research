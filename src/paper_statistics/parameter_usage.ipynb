{
 "cells": [
  {
   "cell_type": "code",
   "execution_count": 16,
   "metadata": {},
   "outputs": [],
   "source": [
    "import json\n",
    "import pandas as pd\n",
    "import glob"
   ]
  },
  {
   "cell_type": "code",
   "execution_count": 17,
   "metadata": {},
   "outputs": [
    {
     "name": "stdout",
     "output_type": "stream",
     "text": [
      "Number repos:  982\n",
      "Number files:  982\n"
     ]
    }
   ],
   "source": [
    "with open(\"repos.json\", \"r\", encoding=\"utf-8\") as src:\n",
    "    repos = json.load(src)\n",
    "    print(\"Number repos: \", len(repos))\n",
    "\n",
    "\n",
    "repo_files = set()\n",
    "\n",
    "for x in glob.glob(\"../data/statistics/*\"):\n",
    "    file_name = x.split(\"\\\\\")[-1]\n",
    "    if file_name in repos:\n",
    "        repo_files.add(x)\n",
    "\n",
    "print(\"Number files: \", len(repo_files))"
   ]
  },
  {
   "cell_type": "code",
   "execution_count": 18,
   "metadata": {},
   "outputs": [
    {
     "name": "stdout",
     "output_type": "stream",
     "text": [
      "\\begin{tabular}{lrrrrrrr}\n",
      "\\toprule\n",
      "   Library &  Available &    Set &  Set\\_\\% &  Default &  Default\\_\\% &  Custom &  Custom\\_\\% \\\\\n",
      "\\midrule\n",
      "   sklearn &       5599 &   1223 &  0.218 &      184 &      0.150 &    1039 &     0.850 \\\\\n",
      "tensorflow &      68347 &  17233 &  0.252 &      675 &      0.039 &   16558 &     0.961 \\\\\n",
      "     torch &     324045 & 126789 &  0.391 &    10684 &      0.084 &  116105 &     0.916 \\\\\n",
      "\\bottomrule\n",
      "\\end{tabular}\n",
      "\n"
     ]
    },
    {
     "name": "stderr",
     "output_type": "stream",
     "text": [
      "C:\\Users\\ssimon\\AppData\\Local\\Temp\\ipykernel_21480\\3580003260.py:2: FutureWarning: In future versions `DataFrame.to_latex` is expected to utilise the base implementation of `Styler.to_latex` for formatting and rendering. The arguments signature may therefore change. It is recommended instead to use `DataFrame.style.to_latex` which also contains additional functionality.\n",
      "  print(df.to_latex(index=False))\n"
     ]
    }
   ],
   "source": [
    "def df_to_latex(df: pd.DataFrame) -> None:\n",
    "    print(df.to_latex(index=False))\n",
    "\n",
    "def get_module(name, data):\n",
    "    try:\n",
    "        return next(filter(lambda x: name == x[\"name\"], data))\n",
    "    except StopIteration:\n",
    "        return None\n",
    "\n",
    "def count_parameters(library_name: str, library_dir: str, files: set) -> pd.DataFrame:\n",
    "\n",
    "    with open(library_dir, \"r\", encoding=\"utf-8\") as library_file:\n",
    "        library_data = json.load(library_file)\n",
    "\n",
    "    total_params_set = 0\n",
    "    total_params_available = 0\n",
    "    default_params = 0\n",
    "    customized_params = 0\n",
    "    for project in list(files):\n",
    "        with open(project, \"r\", encoding=\"utf-8\") as project_file:\n",
    "            project_data = json.load(project_file)\n",
    "\n",
    "            for file in project_data.keys():\n",
    "                file_data = project_data[file]\n",
    "                for library in file_data.keys():\n",
    "                    if library == library_name:\n",
    "                        module_data = file_data[library]\n",
    "                        for key, data in module_data.items():\n",
    "                            if key[0].isupper():\n",
    "                                class_name_parts = key.split(\"_\")\n",
    "                                if len(class_name_parts) > 2:\n",
    "                                    class_name = \"_\".join(class_name_parts[:-1])\n",
    "                                else:\n",
    "                                    class_name = class_name_parts[0]\n",
    "                                \n",
    "                                library_module_data = get_module(class_name, library_data)\n",
    "\n",
    "                                if not library_module_data:\n",
    "                                    continue\n",
    "\n",
    "                                library_module_params = library_module_data[\"params\"]\n",
    "                                total_params_available += len(library_module_params)\n",
    "\n",
    "                                for name, value in data.items():\n",
    "                                    if name in (\"variable\", \"params\"):\n",
    "                                        continue\n",
    "                                    else:\n",
    "                                        total_params_set += 1\n",
    "                                        if name in library_module_params.keys():\n",
    "\n",
    "                                            if str(library_module_params[name]).replace(\"'\", \"\") == value[\"value\"]:\n",
    "                                                default_params += 1\n",
    "                                            else:\n",
    "                                                customized_params += 1\n",
    "                                        else:\n",
    "                                            customized_params += 1\n",
    "\n",
    "\n",
    "    assert total_params_set == default_params + customized_params\n",
    "\n",
    "    df = pd.DataFrame()\n",
    "    df[\"Library\"] = [library_name]\n",
    "    df[\"Available\"] = [total_params_available]\n",
    "    df[\"Set\"] = [total_params_set]\n",
    "    df[\"Set_%\"] = [round(total_params_set/total_params_available, 3)]\n",
    "    df[\"Default\"] = [default_params]\n",
    "    df[\"Default_%\"] = [round(default_params/total_params_set, 3)]\n",
    "    df[\"Custom\"] = [customized_params]\n",
    "    df[\"Custom_%\"] = [round(customized_params/total_params_set, 3)]\n",
    "\n",
    "    return df\n",
    "\n",
    "\n",
    "df_sklearn = count_parameters(\"sklearn\", \"../modules/sklearn_default_values.json\" , repo_files)\n",
    "df_tf = count_parameters(\"tensorflow\", \"../modules/tensorflow_default_values.json\" , repo_files)\n",
    "df_pytorch = count_parameters(\"torch\", \"../modules/torch_default_values.json\" , repo_files)\n",
    "df_all = pd.concat([df_sklearn, df_tf, df_pytorch])\n",
    "\n",
    "df_to_latex(df=df_all)\n"
   ]
  },
  {
   "cell_type": "code",
   "execution_count": 19,
   "metadata": {},
   "outputs": [],
   "source": [
    "from collections import Counter\n",
    "\n",
    "def get_parameters(library_name: str, library_dir: str, files: set) -> pd.DataFrame:\n",
    "\n",
    "    with open(library_dir, \"r\", encoding=\"utf-8\") as library_file:\n",
    "        library_data = json.load(library_file)\n",
    "\n",
    "    params_set = []\n",
    "\n",
    "    for project in list(files):\n",
    "        with open(project, \"r\", encoding=\"utf-8\") as project_file:\n",
    "            project_data = json.load(project_file)\n",
    "\n",
    "            for file in project_data.keys():\n",
    "                file_data = project_data[file]\n",
    "                for library in file_data.keys():\n",
    "                    if library == library_name:\n",
    "                        module_data = file_data[library]\n",
    "                        for key, data in module_data.items():\n",
    "                            if key[0].isupper():\n",
    "                                class_name_parts = key.split(\"_\")\n",
    "                                if len(class_name_parts) > 2:\n",
    "                                    class_name = \"_\".join(class_name_parts[:-1])\n",
    "                                else:\n",
    "                                    class_name = class_name_parts[0]\n",
    "                                \n",
    "                                library_module_data = get_module(name=class_name, data=library_data)\n",
    "                                                                \n",
    "                                if not library_module_data:\n",
    "                                    continue \n",
    "\n",
    "                                library_module_params = library_module_data[\"params\"]\n",
    "\n",
    "                                for name, value in data.items():\n",
    "                                    if name in (\"variable\", \"params\"):\n",
    "                                        continue\n",
    "                                    else:\n",
    "                                        if name in library_module_params.keys():\n",
    "                                            param_name = class_name + \"::\" + name\n",
    "                                            params_set.append(param_name)\n",
    "                                                \n",
    "                                        \n",
    "    \n",
    "    param_counter = Counter(params_set)\n",
    "\n",
    "    return param_counter.most_common()\n",
    "   \n",
    "params = get_parameters(\"sklearn\", \"../modules/sklearn_estimators.json\" , repo_files)"
   ]
  }
 ],
 "metadata": {
  "kernelspec": {
   "display_name": "Python 3.10.7 64-bit",
   "language": "python",
   "name": "python3"
  },
  "language_info": {
   "codemirror_mode": {
    "name": "ipython",
    "version": 3
   },
   "file_extension": ".py",
   "mimetype": "text/x-python",
   "name": "python",
   "nbconvert_exporter": "python",
   "pygments_lexer": "ipython3",
   "version": "3.10.7"
  },
  "orig_nbformat": 4,
  "vscode": {
   "interpreter": {
    "hash": "369f2c481f4da34e4445cda3fffd2e751bd1c4d706f27375911949ba6bb62e1c"
   }
  }
 },
 "nbformat": 4,
 "nbformat_minor": 2
}
