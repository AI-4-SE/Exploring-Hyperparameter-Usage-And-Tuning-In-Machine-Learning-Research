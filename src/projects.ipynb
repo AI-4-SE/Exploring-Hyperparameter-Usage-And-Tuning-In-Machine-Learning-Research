{
 "cells": [
  {
   "cell_type": "code",
   "execution_count": 32,
   "metadata": {},
   "outputs": [],
   "source": [
    "import glob\n",
    "import json\n",
    "import pandas as pd\n",
    "import plotly.graph_objects as go\n",
    "\n",
    "#pd.set_option('display.max_rows', None)\n",
    "\n",
    "SKLEARN_DATA = \"../data/sklearn/modules/sklearn_modules.json\"\n",
    "\n",
    "ALL_SKLEARN_PROJECTS = \"statistics/sklearn/statistics/*\"\n",
    "ALL_TENSORFLOW_PROJECTS = \"statistics/tensorflow/statistics/*\"\n",
    "ALL_PYTORCH_PROJECTS = \"statistics/pytorch/statistics/*\""
   ]
  },
  {
   "cell_type": "markdown",
   "metadata": {},
   "source": [
    "Calculate number of options for each project"
   ]
  },
  {
   "cell_type": "code",
   "execution_count": 33,
   "metadata": {},
   "outputs": [
    {
     "data": {
      "text/html": [
       "<div>\n",
       "<style scoped>\n",
       "    .dataframe tbody tr th:only-of-type {\n",
       "        vertical-align: middle;\n",
       "    }\n",
       "\n",
       "    .dataframe tbody tr th {\n",
       "        vertical-align: top;\n",
       "    }\n",
       "\n",
       "    .dataframe thead th {\n",
       "        text-align: right;\n",
       "    }\n",
       "</style>\n",
       "<table border=\"1\" class=\"dataframe\">\n",
       "  <thead>\n",
       "    <tr style=\"text-align: right;\">\n",
       "      <th></th>\n",
       "      <th>options_used</th>\n",
       "      <th>default_options_used</th>\n",
       "      <th>custom_options_used</th>\n",
       "      <th>%_default_options_used</th>\n",
       "      <th>%_custom_options_used</th>\n",
       "    </tr>\n",
       "  </thead>\n",
       "  <tbody>\n",
       "    <tr>\n",
       "      <th>100DaysofMLCodeChallenge</th>\n",
       "      <td>52</td>\n",
       "      <td>15</td>\n",
       "      <td>37</td>\n",
       "      <td>28.8</td>\n",
       "      <td>71.2</td>\n",
       "    </tr>\n",
       "    <tr>\n",
       "      <th>ade-code</th>\n",
       "      <td>0</td>\n",
       "      <td>0</td>\n",
       "      <td>0</td>\n",
       "      <td>0.0</td>\n",
       "      <td>0.0</td>\n",
       "    </tr>\n",
       "    <tr>\n",
       "      <th>Adversarial-Robust-Supervised-Sparse-Coding</th>\n",
       "      <td>0</td>\n",
       "      <td>0</td>\n",
       "      <td>0</td>\n",
       "      <td>0.0</td>\n",
       "      <td>0.0</td>\n",
       "    </tr>\n",
       "    <tr>\n",
       "      <th>AI-Feynman</th>\n",
       "      <td>6</td>\n",
       "      <td>0</td>\n",
       "      <td>6</td>\n",
       "      <td>0.0</td>\n",
       "      <td>100.0</td>\n",
       "    </tr>\n",
       "    <tr>\n",
       "      <th>AIED_2021_TRMRC_code</th>\n",
       "      <td>0</td>\n",
       "      <td>0</td>\n",
       "      <td>0</td>\n",
       "      <td>0.0</td>\n",
       "      <td>0.0</td>\n",
       "    </tr>\n",
       "    <tr>\n",
       "      <th>...</th>\n",
       "      <td>...</td>\n",
       "      <td>...</td>\n",
       "      <td>...</td>\n",
       "      <td>...</td>\n",
       "      <td>...</td>\n",
       "    </tr>\n",
       "    <tr>\n",
       "      <th>VGG_Paper</th>\n",
       "      <td>0</td>\n",
       "      <td>0</td>\n",
       "      <td>0</td>\n",
       "      <td>0.0</td>\n",
       "      <td>0.0</td>\n",
       "    </tr>\n",
       "    <tr>\n",
       "      <th>VLight</th>\n",
       "      <td>0</td>\n",
       "      <td>0</td>\n",
       "      <td>0</td>\n",
       "      <td>0.0</td>\n",
       "      <td>0.0</td>\n",
       "    </tr>\n",
       "    <tr>\n",
       "      <th>vln-bert</th>\n",
       "      <td>0</td>\n",
       "      <td>0</td>\n",
       "      <td>0</td>\n",
       "      <td>0.0</td>\n",
       "      <td>0.0</td>\n",
       "    </tr>\n",
       "    <tr>\n",
       "      <th>x-deeplearning</th>\n",
       "      <td>6</td>\n",
       "      <td>0</td>\n",
       "      <td>6</td>\n",
       "      <td>0.0</td>\n",
       "      <td>100.0</td>\n",
       "    </tr>\n",
       "    <tr>\n",
       "      <th>xlnet</th>\n",
       "      <td>0</td>\n",
       "      <td>0</td>\n",
       "      <td>0</td>\n",
       "      <td>0.0</td>\n",
       "      <td>0.0</td>\n",
       "    </tr>\n",
       "  </tbody>\n",
       "</table>\n",
       "<p>184 rows × 5 columns</p>\n",
       "</div>"
      ],
      "text/plain": [
       "                                             options_used  \\\n",
       "100DaysofMLCodeChallenge                               52   \n",
       "ade-code                                                0   \n",
       "Adversarial-Robust-Supervised-Sparse-Coding             0   \n",
       "AI-Feynman                                              6   \n",
       "AIED_2021_TRMRC_code                                    0   \n",
       "...                                                   ...   \n",
       "VGG_Paper                                               0   \n",
       "VLight                                                  0   \n",
       "vln-bert                                                0   \n",
       "x-deeplearning                                          6   \n",
       "xlnet                                                   0   \n",
       "\n",
       "                                             default_options_used  \\\n",
       "100DaysofMLCodeChallenge                                       15   \n",
       "ade-code                                                        0   \n",
       "Adversarial-Robust-Supervised-Sparse-Coding                     0   \n",
       "AI-Feynman                                                      0   \n",
       "AIED_2021_TRMRC_code                                            0   \n",
       "...                                                           ...   \n",
       "VGG_Paper                                                       0   \n",
       "VLight                                                          0   \n",
       "vln-bert                                                        0   \n",
       "x-deeplearning                                                  0   \n",
       "xlnet                                                           0   \n",
       "\n",
       "                                             custom_options_used  \\\n",
       "100DaysofMLCodeChallenge                                      37   \n",
       "ade-code                                                       0   \n",
       "Adversarial-Robust-Supervised-Sparse-Coding                    0   \n",
       "AI-Feynman                                                     6   \n",
       "AIED_2021_TRMRC_code                                           0   \n",
       "...                                                          ...   \n",
       "VGG_Paper                                                      0   \n",
       "VLight                                                         0   \n",
       "vln-bert                                                       0   \n",
       "x-deeplearning                                                 6   \n",
       "xlnet                                                          0   \n",
       "\n",
       "                                             %_default_options_used  \\\n",
       "100DaysofMLCodeChallenge                                       28.8   \n",
       "ade-code                                                        0.0   \n",
       "Adversarial-Robust-Supervised-Sparse-Coding                     0.0   \n",
       "AI-Feynman                                                      0.0   \n",
       "AIED_2021_TRMRC_code                                            0.0   \n",
       "...                                                             ...   \n",
       "VGG_Paper                                                       0.0   \n",
       "VLight                                                          0.0   \n",
       "vln-bert                                                        0.0   \n",
       "x-deeplearning                                                  0.0   \n",
       "xlnet                                                           0.0   \n",
       "\n",
       "                                             %_custom_options_used  \n",
       "100DaysofMLCodeChallenge                                      71.2  \n",
       "ade-code                                                       0.0  \n",
       "Adversarial-Robust-Supervised-Sparse-Coding                    0.0  \n",
       "AI-Feynman                                                   100.0  \n",
       "AIED_2021_TRMRC_code                                           0.0  \n",
       "...                                                            ...  \n",
       "VGG_Paper                                                      0.0  \n",
       "VLight                                                         0.0  \n",
       "vln-bert                                                       0.0  \n",
       "x-deeplearning                                               100.0  \n",
       "xlnet                                                          0.0  \n",
       "\n",
       "[184 rows x 5 columns]"
      ]
     },
     "execution_count": 33,
     "metadata": {},
     "output_type": "execute_result"
    }
   ],
   "source": [
    "projects = []\n",
    "project_names = []\n",
    "project_total_default = []\n",
    "project_total_custom = []\n",
    "\n",
    "with open(SKLEARN_DATA, \"r\", encoding=\"utf-8\") as sklearn_file:\n",
    "    sklearn_data = json.load(sklearn_file)\n",
    "\n",
    "for project in glob.glob(ALL_SKLEARN_PROJECTS):\n",
    "    default_counter = 0\n",
    "    custom_counter = 0\n",
    "    total_counter = 0\n",
    "    project_name = project.split(\"\\\\\")[-1].split(\".\")[0]\n",
    "    project_name = project_name.replace(\"statistics_\", \"\")\n",
    "\n",
    "    with open(project, \"r\", encoding=\"utf-8\") as project_file:\n",
    "        project_data = json.load(project_file)\n",
    "\n",
    "    for file in project_data:\n",
    "        file_data = project_data[file]\n",
    "\n",
    "        for module in file_data:\n",
    "            module_name = module.split(\"_\")[0]\n",
    "            sklearn_module = next(filter(lambda x: x[\"name\"] == module_name, sklearn_data))\n",
    "            module_data = file_data[module]\n",
    "\n",
    "            if module_data:\n",
    "                for option in module_data:\n",
    "                    total_counter += 1\n",
    "                    try:\n",
    "                        param = next(filter(lambda x: x[0] == option, sklearn_module[\"params\"]))\n",
    "                        default_value = param[1].split(\"=\")[-1]\n",
    "                        option_value = module_data[option]   \n",
    "                        if default_value == option_value:\n",
    "                            default_counter += 1\n",
    "                        else:\n",
    "                            custom_counter +=1\n",
    "                    except:\n",
    "                        custom_counter +=1\n",
    "    \n",
    "    percent_default = 0 if total_counter == 0 else round((default_counter/total_counter)*100, 1)\n",
    "    percent_custom = 0 if total_counter == 0 else round((custom_counter/total_counter)*100, 1)\n",
    "\n",
    "\n",
    "    project_names.append(project_name)\n",
    "    project_total_default.append(default_counter)\n",
    "    project_total_custom.append(custom_counter)\n",
    "\n",
    "    data = {\n",
    "        \"options_used\": {project_name: total_counter},\n",
    "        \"default_options_used\": {project_name: default_counter},\n",
    "        \"custom_options_used\": {project_name: custom_counter},\n",
    "        \"%_default_options_used\": {project_name: percent_default},\n",
    "        \"%_custom_options_used\": {project_name: percent_custom},\n",
    "    }\n",
    "\n",
    "    df = pd.DataFrame.from_dict(data)\n",
    "    projects.append(df)\n",
    "\n",
    "result = pd.concat(projects)\n",
    "result"
   ]
  },
  {
   "cell_type": "code",
   "execution_count": 34,
   "metadata": {},
   "outputs": [
    {
     "data": {
      "application/vnd.plotly.v1+json": {
       "config": {
        "plotlyServerURL": "https://plot.ly"
       },
       "data": [
        {
         "name": "default",
         "type": "bar",
         "x": [
          "100DaysofMLCodeChallenge",
          "ade-code",
          "Adversarial-Robust-Supervised-Sparse-Coding",
          "AI-Feynman",
          "AIED_2021_TRMRC_code",
          "alignarr",
          "AMINN",
          "amortized-rsa",
          "ApproPO",
          "ATRank",
          "AttentionXML",
          "attention_network_experiments",
          "Audio_recognition_",
          "AVATAR",
          "baller2vec",
          "Bandits",
          "Basic_TCN",
          "bert-ada",
          "BERT_LRP",
          "Brain-Tumour-Segmentation-Dissertation",
          "BrainRegressorCNN",
          "bsldict",
          "cartography",
          "CC-WGAN-GP",
          "CE3",
          "CGS",
          "chinese-sentiment-classification",
          "cloud-masking-ANNs",
          "cloud-masking-SOMs",
          "cnn-rnf",
          "collaborative-filtering-recommender-systems",
          "COMS4995_Team_4_Zero_Shot_Classifier",
          "Conditional_Density_Estimation",
          "contact-human-dynamics",
          "context_aware_situation_entity",
          "COVID-DA",
          "covid_19_hate_speech",
          "creme",
          "CS498_DL_Project",
          "csmri-refinement",
          "CVPR19_Incremental_Learning",
          "DANet",
          "deep-diff",
          "DeepMapping",
          "DEMVC",
          "DenoiSeg",
          "density-peaks-sentence-clustering",
          "differential-mdl-change-statistics",
          "disentanglement",
          "distant-temprel",
          "DRESS_DeepRL",
          "DrumGAN",
          "ECBM6040-Project",
          "edge",
          "ESPRM",
          "ethics",
          "etnlp",
          "ExpFinder",
          "facenet",
          "Fair-Max-Entropy-Distributions",
          "fancyimpute",
          "FashionMNST",
          "FEDL_pytorch",
          "FEDOT",
          "fever2-columbia",
          "FIAQM",
          "FIREnet",
          "FLAML",
          "Gamma-Ray-Point-Source-Detector",
          "GAN2",
          "geostyle",
          "GettingToKnowYou",
          "GIB",
          "gimlet",
          "GL-AT",
          "gmu-mmimdb",
          "GoodNews",
          "GPV",
          "Graph-embedding",
          "hdmi",
          "Heterogeneity-Loss-to-Handle-Intersubject-and-Intrasubject-Variability-in-Cancer",
          "HSRL",
          "HUNet",
          "IBM_seizure_data",
          "ifsl",
          "Image-Interpolation-via-adaptive-separable-convolution",
          "Inductive-representation-learning-on-temporal-graphs",
          "Information-in-Language",
          "IterAvg",
          "joint-coref-srl",
          "key-protected-classification",
          "knee-cartilage-segmentation",
          "kw_extraction",
          "label-efficient-brain-tumor-segmentation",
          "LAE",
          "lane-detection-using-lanenet",
          "lane-detection",
          "learning-to-segment",
          "lio",
          "lua-ffi-lightGBM",
          "MACH",
          "MAN-PAR-",
          "maua-stylegan2",
          "Mem2Seq",
          "MI-on-EL",
          "mlvsgarch",
          "ML_intermetallics",
          "mmdetection",
          "MMPF",
          "modified_sentence_transfomers",
          "moeadpy",
          "multiscale-adversarial-attention-gates",
          "multiview-subword-regularization",
          "my_WRN",
          "network-deconfounder-wsdm20",
          "Neural-Snowball",
          "neuralese",
          "NeuralFDR",
          "NHNN",
          "NIPS2017",
          "nlg-bias",
          "NonMetricSpaceLib",
          "no_frills_hoi_det",
          "OAAG",
          "Object_Detection_Tracking",
          "online-continual-learning",
          "optbinning",
          "OverlapPredator",
          "paper_boltzmann_generators",
          "parametric-contrastive-learning",
          "parcels",
          "PDN",
          "PGNAS",
          "PMN",
          "quac",
          "quffka",
          "ranlp-2019",
          "ReferentialGym",
          "regression_data_poisoning",
          "reinforcement-learning-via-spectral-methods",
          "ReproducibilityRepo",
          "RISClusterPT",
          "RobinHood-NeurIPS-2019",
          "Rosita",
          "ROT",
          "s-rafni",
          "SaintPlus-Knowledge-Tracing-Pytorch",
          "scruples",
          "SemanticPalette",
          "Semantics-AssistedVideoCaptioning",
          "seq2seq-EVC",
          "seqbed",
          "sgas",
          "shape_aware_segmentation",
          "simclr-pytorch",
          "SincConvBasedSpeakerRecognition",
          "skeleton-contrast",
          "sketching_optimisation",
          "sktime-m4",
          "Spike-GAN",
          "StarGAN-Voice-Conversion",
          "stellargraph",
          "stochasticity_in_neural_ode",
          "Structural-core",
          "Subjective-Class-Issue",
          "SubmodularStreamingMaximization",
          "Super-Resolution_CNN-PyTorch",
          "synthetic",
          "tcn-master",
          "Testing-1",
          "this-before-that",
          "TOCCA",
          "trackrcnn_with_deepsort",
          "TrajectorySet",
          "TransformCodingInference",
          "TranSys",
          "tsfresh",
          "TuiGAN-PyTorch",
          "up",
          "VGG_Paper",
          "VLight",
          "vln-bert",
          "x-deeplearning",
          "xlnet"
         ],
         "y": [
          15,
          0,
          0,
          0,
          0,
          2,
          0,
          0,
          0,
          0,
          0,
          0,
          0,
          0,
          0,
          0,
          0,
          0,
          0,
          0,
          0,
          0,
          0,
          0,
          0,
          0,
          0,
          0,
          2,
          0,
          0,
          1,
          2,
          0,
          0,
          0,
          4,
          0,
          1,
          0,
          0,
          0,
          6,
          2,
          0,
          0,
          0,
          0,
          0,
          0,
          0,
          0,
          0,
          1,
          0,
          0,
          0,
          1,
          2,
          0,
          0,
          0,
          0,
          2,
          0,
          2,
          0,
          1,
          0,
          0,
          0,
          0,
          1,
          0,
          0,
          0,
          0,
          0,
          6,
          0,
          0,
          0,
          2,
          0,
          0,
          0,
          0,
          0,
          0,
          0,
          0,
          0,
          0,
          0,
          0,
          0,
          0,
          0,
          0,
          0,
          0,
          0,
          0,
          0,
          0,
          1,
          2,
          0,
          1,
          0,
          0,
          0,
          0,
          0,
          0,
          0,
          0,
          0,
          1,
          0,
          0,
          1,
          0,
          0,
          0,
          0,
          0,
          0,
          0,
          0,
          0,
          0,
          0,
          0,
          4,
          0,
          6,
          1,
          4,
          0,
          1,
          3,
          7,
          0,
          0,
          0,
          0,
          92,
          2,
          0,
          0,
          0,
          0,
          0,
          0,
          0,
          0,
          0,
          2,
          0,
          0,
          1,
          0,
          0,
          0,
          0,
          0,
          0,
          0,
          0,
          0,
          1,
          1,
          0,
          0,
          4,
          0,
          0,
          0,
          0,
          0,
          0,
          0,
          0
         ]
        },
        {
         "name": "custom",
         "type": "bar",
         "x": [
          "100DaysofMLCodeChallenge",
          "ade-code",
          "Adversarial-Robust-Supervised-Sparse-Coding",
          "AI-Feynman",
          "AIED_2021_TRMRC_code",
          "alignarr",
          "AMINN",
          "amortized-rsa",
          "ApproPO",
          "ATRank",
          "AttentionXML",
          "attention_network_experiments",
          "Audio_recognition_",
          "AVATAR",
          "baller2vec",
          "Bandits",
          "Basic_TCN",
          "bert-ada",
          "BERT_LRP",
          "Brain-Tumour-Segmentation-Dissertation",
          "BrainRegressorCNN",
          "bsldict",
          "cartography",
          "CC-WGAN-GP",
          "CE3",
          "CGS",
          "chinese-sentiment-classification",
          "cloud-masking-ANNs",
          "cloud-masking-SOMs",
          "cnn-rnf",
          "collaborative-filtering-recommender-systems",
          "COMS4995_Team_4_Zero_Shot_Classifier",
          "Conditional_Density_Estimation",
          "contact-human-dynamics",
          "context_aware_situation_entity",
          "COVID-DA",
          "covid_19_hate_speech",
          "creme",
          "CS498_DL_Project",
          "csmri-refinement",
          "CVPR19_Incremental_Learning",
          "DANet",
          "deep-diff",
          "DeepMapping",
          "DEMVC",
          "DenoiSeg",
          "density-peaks-sentence-clustering",
          "differential-mdl-change-statistics",
          "disentanglement",
          "distant-temprel",
          "DRESS_DeepRL",
          "DrumGAN",
          "ECBM6040-Project",
          "edge",
          "ESPRM",
          "ethics",
          "etnlp",
          "ExpFinder",
          "facenet",
          "Fair-Max-Entropy-Distributions",
          "fancyimpute",
          "FashionMNST",
          "FEDL_pytorch",
          "FEDOT",
          "fever2-columbia",
          "FIAQM",
          "FIREnet",
          "FLAML",
          "Gamma-Ray-Point-Source-Detector",
          "GAN2",
          "geostyle",
          "GettingToKnowYou",
          "GIB",
          "gimlet",
          "GL-AT",
          "gmu-mmimdb",
          "GoodNews",
          "GPV",
          "Graph-embedding",
          "hdmi",
          "Heterogeneity-Loss-to-Handle-Intersubject-and-Intrasubject-Variability-in-Cancer",
          "HSRL",
          "HUNet",
          "IBM_seizure_data",
          "ifsl",
          "Image-Interpolation-via-adaptive-separable-convolution",
          "Inductive-representation-learning-on-temporal-graphs",
          "Information-in-Language",
          "IterAvg",
          "joint-coref-srl",
          "key-protected-classification",
          "knee-cartilage-segmentation",
          "kw_extraction",
          "label-efficient-brain-tumor-segmentation",
          "LAE",
          "lane-detection-using-lanenet",
          "lane-detection",
          "learning-to-segment",
          "lio",
          "lua-ffi-lightGBM",
          "MACH",
          "MAN-PAR-",
          "maua-stylegan2",
          "Mem2Seq",
          "MI-on-EL",
          "mlvsgarch",
          "ML_intermetallics",
          "mmdetection",
          "MMPF",
          "modified_sentence_transfomers",
          "moeadpy",
          "multiscale-adversarial-attention-gates",
          "multiview-subword-regularization",
          "my_WRN",
          "network-deconfounder-wsdm20",
          "Neural-Snowball",
          "neuralese",
          "NeuralFDR",
          "NHNN",
          "NIPS2017",
          "nlg-bias",
          "NonMetricSpaceLib",
          "no_frills_hoi_det",
          "OAAG",
          "Object_Detection_Tracking",
          "online-continual-learning",
          "optbinning",
          "OverlapPredator",
          "paper_boltzmann_generators",
          "parametric-contrastive-learning",
          "parcels",
          "PDN",
          "PGNAS",
          "PMN",
          "quac",
          "quffka",
          "ranlp-2019",
          "ReferentialGym",
          "regression_data_poisoning",
          "reinforcement-learning-via-spectral-methods",
          "ReproducibilityRepo",
          "RISClusterPT",
          "RobinHood-NeurIPS-2019",
          "Rosita",
          "ROT",
          "s-rafni",
          "SaintPlus-Knowledge-Tracing-Pytorch",
          "scruples",
          "SemanticPalette",
          "Semantics-AssistedVideoCaptioning",
          "seq2seq-EVC",
          "seqbed",
          "sgas",
          "shape_aware_segmentation",
          "simclr-pytorch",
          "SincConvBasedSpeakerRecognition",
          "skeleton-contrast",
          "sketching_optimisation",
          "sktime-m4",
          "Spike-GAN",
          "StarGAN-Voice-Conversion",
          "stellargraph",
          "stochasticity_in_neural_ode",
          "Structural-core",
          "Subjective-Class-Issue",
          "SubmodularStreamingMaximization",
          "Super-Resolution_CNN-PyTorch",
          "synthetic",
          "tcn-master",
          "Testing-1",
          "this-before-that",
          "TOCCA",
          "trackrcnn_with_deepsort",
          "TrajectorySet",
          "TransformCodingInference",
          "TranSys",
          "tsfresh",
          "TuiGAN-PyTorch",
          "up",
          "VGG_Paper",
          "VLight",
          "vln-bert",
          "x-deeplearning",
          "xlnet"
         ],
         "y": [
          37,
          0,
          0,
          6,
          0,
          4,
          3,
          0,
          0,
          0,
          7,
          0,
          0,
          0,
          0,
          0,
          0,
          0,
          0,
          0,
          0,
          0,
          0,
          0,
          2,
          3,
          0,
          0,
          0,
          0,
          9,
          0,
          18,
          2,
          0,
          0,
          19,
          42,
          2,
          0,
          0,
          0,
          0,
          2,
          5,
          0,
          0,
          0,
          4,
          0,
          0,
          1,
          3,
          1,
          3,
          0,
          0,
          2,
          2,
          0,
          4,
          2,
          0,
          116,
          0,
          0,
          7,
          20,
          1,
          1,
          0,
          0,
          1,
          0,
          0,
          4,
          3,
          0,
          3,
          1,
          0,
          0,
          0,
          4,
          22,
          0,
          0,
          0,
          0,
          3,
          0,
          0,
          2,
          3,
          1,
          2,
          2,
          10,
          0,
          8,
          0,
          0,
          1,
          0,
          0,
          0,
          6,
          0,
          3,
          2,
          4,
          0,
          0,
          6,
          2,
          0,
          0,
          1,
          9,
          2,
          0,
          11,
          0,
          0,
          0,
          1,
          4,
          0,
          0,
          0,
          4,
          0,
          0,
          2,
          10,
          0,
          54,
          6,
          35,
          3,
          5,
          17,
          16,
          0,
          0,
          2,
          0,
          46,
          4,
          0,
          0,
          3,
          0,
          0,
          0,
          0,
          2,
          2,
          6,
          0,
          0,
          6,
          0,
          0,
          0,
          4,
          0,
          0,
          1,
          2,
          6,
          9,
          11,
          3,
          6,
          2,
          3,
          0,
          1,
          0,
          0,
          0,
          6,
          0
         ]
        }
       ],
       "layout": {
        "barmode": "stack",
        "template": {
         "data": {
          "bar": [
           {
            "error_x": {
             "color": "#2a3f5f"
            },
            "error_y": {
             "color": "#2a3f5f"
            },
            "marker": {
             "line": {
              "color": "#E5ECF6",
              "width": 0.5
             },
             "pattern": {
              "fillmode": "overlay",
              "size": 10,
              "solidity": 0.2
             }
            },
            "type": "bar"
           }
          ],
          "barpolar": [
           {
            "marker": {
             "line": {
              "color": "#E5ECF6",
              "width": 0.5
             },
             "pattern": {
              "fillmode": "overlay",
              "size": 10,
              "solidity": 0.2
             }
            },
            "type": "barpolar"
           }
          ],
          "carpet": [
           {
            "aaxis": {
             "endlinecolor": "#2a3f5f",
             "gridcolor": "white",
             "linecolor": "white",
             "minorgridcolor": "white",
             "startlinecolor": "#2a3f5f"
            },
            "baxis": {
             "endlinecolor": "#2a3f5f",
             "gridcolor": "white",
             "linecolor": "white",
             "minorgridcolor": "white",
             "startlinecolor": "#2a3f5f"
            },
            "type": "carpet"
           }
          ],
          "choropleth": [
           {
            "colorbar": {
             "outlinewidth": 0,
             "ticks": ""
            },
            "type": "choropleth"
           }
          ],
          "contour": [
           {
            "colorbar": {
             "outlinewidth": 0,
             "ticks": ""
            },
            "colorscale": [
             [
              0,
              "#0d0887"
             ],
             [
              0.1111111111111111,
              "#46039f"
             ],
             [
              0.2222222222222222,
              "#7201a8"
             ],
             [
              0.3333333333333333,
              "#9c179e"
             ],
             [
              0.4444444444444444,
              "#bd3786"
             ],
             [
              0.5555555555555556,
              "#d8576b"
             ],
             [
              0.6666666666666666,
              "#ed7953"
             ],
             [
              0.7777777777777778,
              "#fb9f3a"
             ],
             [
              0.8888888888888888,
              "#fdca26"
             ],
             [
              1,
              "#f0f921"
             ]
            ],
            "type": "contour"
           }
          ],
          "contourcarpet": [
           {
            "colorbar": {
             "outlinewidth": 0,
             "ticks": ""
            },
            "type": "contourcarpet"
           }
          ],
          "heatmap": [
           {
            "colorbar": {
             "outlinewidth": 0,
             "ticks": ""
            },
            "colorscale": [
             [
              0,
              "#0d0887"
             ],
             [
              0.1111111111111111,
              "#46039f"
             ],
             [
              0.2222222222222222,
              "#7201a8"
             ],
             [
              0.3333333333333333,
              "#9c179e"
             ],
             [
              0.4444444444444444,
              "#bd3786"
             ],
             [
              0.5555555555555556,
              "#d8576b"
             ],
             [
              0.6666666666666666,
              "#ed7953"
             ],
             [
              0.7777777777777778,
              "#fb9f3a"
             ],
             [
              0.8888888888888888,
              "#fdca26"
             ],
             [
              1,
              "#f0f921"
             ]
            ],
            "type": "heatmap"
           }
          ],
          "heatmapgl": [
           {
            "colorbar": {
             "outlinewidth": 0,
             "ticks": ""
            },
            "colorscale": [
             [
              0,
              "#0d0887"
             ],
             [
              0.1111111111111111,
              "#46039f"
             ],
             [
              0.2222222222222222,
              "#7201a8"
             ],
             [
              0.3333333333333333,
              "#9c179e"
             ],
             [
              0.4444444444444444,
              "#bd3786"
             ],
             [
              0.5555555555555556,
              "#d8576b"
             ],
             [
              0.6666666666666666,
              "#ed7953"
             ],
             [
              0.7777777777777778,
              "#fb9f3a"
             ],
             [
              0.8888888888888888,
              "#fdca26"
             ],
             [
              1,
              "#f0f921"
             ]
            ],
            "type": "heatmapgl"
           }
          ],
          "histogram": [
           {
            "marker": {
             "pattern": {
              "fillmode": "overlay",
              "size": 10,
              "solidity": 0.2
             }
            },
            "type": "histogram"
           }
          ],
          "histogram2d": [
           {
            "colorbar": {
             "outlinewidth": 0,
             "ticks": ""
            },
            "colorscale": [
             [
              0,
              "#0d0887"
             ],
             [
              0.1111111111111111,
              "#46039f"
             ],
             [
              0.2222222222222222,
              "#7201a8"
             ],
             [
              0.3333333333333333,
              "#9c179e"
             ],
             [
              0.4444444444444444,
              "#bd3786"
             ],
             [
              0.5555555555555556,
              "#d8576b"
             ],
             [
              0.6666666666666666,
              "#ed7953"
             ],
             [
              0.7777777777777778,
              "#fb9f3a"
             ],
             [
              0.8888888888888888,
              "#fdca26"
             ],
             [
              1,
              "#f0f921"
             ]
            ],
            "type": "histogram2d"
           }
          ],
          "histogram2dcontour": [
           {
            "colorbar": {
             "outlinewidth": 0,
             "ticks": ""
            },
            "colorscale": [
             [
              0,
              "#0d0887"
             ],
             [
              0.1111111111111111,
              "#46039f"
             ],
             [
              0.2222222222222222,
              "#7201a8"
             ],
             [
              0.3333333333333333,
              "#9c179e"
             ],
             [
              0.4444444444444444,
              "#bd3786"
             ],
             [
              0.5555555555555556,
              "#d8576b"
             ],
             [
              0.6666666666666666,
              "#ed7953"
             ],
             [
              0.7777777777777778,
              "#fb9f3a"
             ],
             [
              0.8888888888888888,
              "#fdca26"
             ],
             [
              1,
              "#f0f921"
             ]
            ],
            "type": "histogram2dcontour"
           }
          ],
          "mesh3d": [
           {
            "colorbar": {
             "outlinewidth": 0,
             "ticks": ""
            },
            "type": "mesh3d"
           }
          ],
          "parcoords": [
           {
            "line": {
             "colorbar": {
              "outlinewidth": 0,
              "ticks": ""
             }
            },
            "type": "parcoords"
           }
          ],
          "pie": [
           {
            "automargin": true,
            "type": "pie"
           }
          ],
          "scatter": [
           {
            "fillpattern": {
             "fillmode": "overlay",
             "size": 10,
             "solidity": 0.2
            },
            "type": "scatter"
           }
          ],
          "scatter3d": [
           {
            "line": {
             "colorbar": {
              "outlinewidth": 0,
              "ticks": ""
             }
            },
            "marker": {
             "colorbar": {
              "outlinewidth": 0,
              "ticks": ""
             }
            },
            "type": "scatter3d"
           }
          ],
          "scattercarpet": [
           {
            "marker": {
             "colorbar": {
              "outlinewidth": 0,
              "ticks": ""
             }
            },
            "type": "scattercarpet"
           }
          ],
          "scattergeo": [
           {
            "marker": {
             "colorbar": {
              "outlinewidth": 0,
              "ticks": ""
             }
            },
            "type": "scattergeo"
           }
          ],
          "scattergl": [
           {
            "marker": {
             "colorbar": {
              "outlinewidth": 0,
              "ticks": ""
             }
            },
            "type": "scattergl"
           }
          ],
          "scattermapbox": [
           {
            "marker": {
             "colorbar": {
              "outlinewidth": 0,
              "ticks": ""
             }
            },
            "type": "scattermapbox"
           }
          ],
          "scatterpolar": [
           {
            "marker": {
             "colorbar": {
              "outlinewidth": 0,
              "ticks": ""
             }
            },
            "type": "scatterpolar"
           }
          ],
          "scatterpolargl": [
           {
            "marker": {
             "colorbar": {
              "outlinewidth": 0,
              "ticks": ""
             }
            },
            "type": "scatterpolargl"
           }
          ],
          "scatterternary": [
           {
            "marker": {
             "colorbar": {
              "outlinewidth": 0,
              "ticks": ""
             }
            },
            "type": "scatterternary"
           }
          ],
          "surface": [
           {
            "colorbar": {
             "outlinewidth": 0,
             "ticks": ""
            },
            "colorscale": [
             [
              0,
              "#0d0887"
             ],
             [
              0.1111111111111111,
              "#46039f"
             ],
             [
              0.2222222222222222,
              "#7201a8"
             ],
             [
              0.3333333333333333,
              "#9c179e"
             ],
             [
              0.4444444444444444,
              "#bd3786"
             ],
             [
              0.5555555555555556,
              "#d8576b"
             ],
             [
              0.6666666666666666,
              "#ed7953"
             ],
             [
              0.7777777777777778,
              "#fb9f3a"
             ],
             [
              0.8888888888888888,
              "#fdca26"
             ],
             [
              1,
              "#f0f921"
             ]
            ],
            "type": "surface"
           }
          ],
          "table": [
           {
            "cells": {
             "fill": {
              "color": "#EBF0F8"
             },
             "line": {
              "color": "white"
             }
            },
            "header": {
             "fill": {
              "color": "#C8D4E3"
             },
             "line": {
              "color": "white"
             }
            },
            "type": "table"
           }
          ]
         },
         "layout": {
          "annotationdefaults": {
           "arrowcolor": "#2a3f5f",
           "arrowhead": 0,
           "arrowwidth": 1
          },
          "autotypenumbers": "strict",
          "coloraxis": {
           "colorbar": {
            "outlinewidth": 0,
            "ticks": ""
           }
          },
          "colorscale": {
           "diverging": [
            [
             0,
             "#8e0152"
            ],
            [
             0.1,
             "#c51b7d"
            ],
            [
             0.2,
             "#de77ae"
            ],
            [
             0.3,
             "#f1b6da"
            ],
            [
             0.4,
             "#fde0ef"
            ],
            [
             0.5,
             "#f7f7f7"
            ],
            [
             0.6,
             "#e6f5d0"
            ],
            [
             0.7,
             "#b8e186"
            ],
            [
             0.8,
             "#7fbc41"
            ],
            [
             0.9,
             "#4d9221"
            ],
            [
             1,
             "#276419"
            ]
           ],
           "sequential": [
            [
             0,
             "#0d0887"
            ],
            [
             0.1111111111111111,
             "#46039f"
            ],
            [
             0.2222222222222222,
             "#7201a8"
            ],
            [
             0.3333333333333333,
             "#9c179e"
            ],
            [
             0.4444444444444444,
             "#bd3786"
            ],
            [
             0.5555555555555556,
             "#d8576b"
            ],
            [
             0.6666666666666666,
             "#ed7953"
            ],
            [
             0.7777777777777778,
             "#fb9f3a"
            ],
            [
             0.8888888888888888,
             "#fdca26"
            ],
            [
             1,
             "#f0f921"
            ]
           ],
           "sequentialminus": [
            [
             0,
             "#0d0887"
            ],
            [
             0.1111111111111111,
             "#46039f"
            ],
            [
             0.2222222222222222,
             "#7201a8"
            ],
            [
             0.3333333333333333,
             "#9c179e"
            ],
            [
             0.4444444444444444,
             "#bd3786"
            ],
            [
             0.5555555555555556,
             "#d8576b"
            ],
            [
             0.6666666666666666,
             "#ed7953"
            ],
            [
             0.7777777777777778,
             "#fb9f3a"
            ],
            [
             0.8888888888888888,
             "#fdca26"
            ],
            [
             1,
             "#f0f921"
            ]
           ]
          },
          "colorway": [
           "#636efa",
           "#EF553B",
           "#00cc96",
           "#ab63fa",
           "#FFA15A",
           "#19d3f3",
           "#FF6692",
           "#B6E880",
           "#FF97FF",
           "#FECB52"
          ],
          "font": {
           "color": "#2a3f5f"
          },
          "geo": {
           "bgcolor": "white",
           "lakecolor": "white",
           "landcolor": "#E5ECF6",
           "showlakes": true,
           "showland": true,
           "subunitcolor": "white"
          },
          "hoverlabel": {
           "align": "left"
          },
          "hovermode": "closest",
          "mapbox": {
           "style": "light"
          },
          "paper_bgcolor": "white",
          "plot_bgcolor": "#E5ECF6",
          "polar": {
           "angularaxis": {
            "gridcolor": "white",
            "linecolor": "white",
            "ticks": ""
           },
           "bgcolor": "#E5ECF6",
           "radialaxis": {
            "gridcolor": "white",
            "linecolor": "white",
            "ticks": ""
           }
          },
          "scene": {
           "xaxis": {
            "backgroundcolor": "#E5ECF6",
            "gridcolor": "white",
            "gridwidth": 2,
            "linecolor": "white",
            "showbackground": true,
            "ticks": "",
            "zerolinecolor": "white"
           },
           "yaxis": {
            "backgroundcolor": "#E5ECF6",
            "gridcolor": "white",
            "gridwidth": 2,
            "linecolor": "white",
            "showbackground": true,
            "ticks": "",
            "zerolinecolor": "white"
           },
           "zaxis": {
            "backgroundcolor": "#E5ECF6",
            "gridcolor": "white",
            "gridwidth": 2,
            "linecolor": "white",
            "showbackground": true,
            "ticks": "",
            "zerolinecolor": "white"
           }
          },
          "shapedefaults": {
           "line": {
            "color": "#2a3f5f"
           }
          },
          "ternary": {
           "aaxis": {
            "gridcolor": "white",
            "linecolor": "white",
            "ticks": ""
           },
           "baxis": {
            "gridcolor": "white",
            "linecolor": "white",
            "ticks": ""
           },
           "bgcolor": "#E5ECF6",
           "caxis": {
            "gridcolor": "white",
            "linecolor": "white",
            "ticks": ""
           }
          },
          "title": {
           "x": 0.05
          },
          "xaxis": {
           "automargin": true,
           "gridcolor": "white",
           "linecolor": "white",
           "ticks": "",
           "title": {
            "standoff": 15
           },
           "zerolinecolor": "white",
           "zerolinewidth": 2
          },
          "yaxis": {
           "automargin": true,
           "gridcolor": "white",
           "linecolor": "white",
           "ticks": "",
           "title": {
            "standoff": 15
           },
           "zerolinecolor": "white",
           "zerolinewidth": 2
          }
         }
        }
       }
      }
     },
     "metadata": {},
     "output_type": "display_data"
    }
   ],
   "source": [
    "\n",
    "fig = go.Figure(data=[\n",
    "    go.Bar(name='default', x=project_names, y=project_total_default),\n",
    "    go.Bar(name='custom', x=project_names, y=project_total_custom)\n",
    "])\n",
    "# Change the bar mode\n",
    "fig.update_layout(barmode='stack')\n",
    "fig.show()"
   ]
  },
  {
   "cell_type": "code",
   "execution_count": 35,
   "metadata": {},
   "outputs": [
    {
     "data": {
      "text/html": [
       "<div>\n",
       "<style scoped>\n",
       "    .dataframe tbody tr th:only-of-type {\n",
       "        vertical-align: middle;\n",
       "    }\n",
       "\n",
       "    .dataframe tbody tr th {\n",
       "        vertical-align: top;\n",
       "    }\n",
       "\n",
       "    .dataframe thead th {\n",
       "        text-align: right;\n",
       "    }\n",
       "</style>\n",
       "<table border=\"1\" class=\"dataframe\">\n",
       "  <thead>\n",
       "    <tr style=\"text-align: right;\">\n",
       "      <th></th>\n",
       "      <th>options_used</th>\n",
       "      <th>default_options_used</th>\n",
       "      <th>custom_options_used</th>\n",
       "      <th>%_default_options_used</th>\n",
       "      <th>%_custom_options_used</th>\n",
       "    </tr>\n",
       "  </thead>\n",
       "  <tbody>\n",
       "    <tr>\n",
       "      <th>ade-code</th>\n",
       "      <td>0</td>\n",
       "      <td>0</td>\n",
       "      <td>0</td>\n",
       "      <td>0.0</td>\n",
       "      <td>0.0</td>\n",
       "    </tr>\n",
       "    <tr>\n",
       "      <th>Adversarial-Robust-Supervised-Sparse-Coding</th>\n",
       "      <td>0</td>\n",
       "      <td>0</td>\n",
       "      <td>0</td>\n",
       "      <td>0.0</td>\n",
       "      <td>0.0</td>\n",
       "    </tr>\n",
       "    <tr>\n",
       "      <th>AIED_2021_TRMRC_code</th>\n",
       "      <td>0</td>\n",
       "      <td>0</td>\n",
       "      <td>0</td>\n",
       "      <td>0.0</td>\n",
       "      <td>0.0</td>\n",
       "    </tr>\n",
       "    <tr>\n",
       "      <th>amortized-rsa</th>\n",
       "      <td>0</td>\n",
       "      <td>0</td>\n",
       "      <td>0</td>\n",
       "      <td>0.0</td>\n",
       "      <td>0.0</td>\n",
       "    </tr>\n",
       "    <tr>\n",
       "      <th>ApproPO</th>\n",
       "      <td>0</td>\n",
       "      <td>0</td>\n",
       "      <td>0</td>\n",
       "      <td>0.0</td>\n",
       "      <td>0.0</td>\n",
       "    </tr>\n",
       "    <tr>\n",
       "      <th>...</th>\n",
       "      <td>...</td>\n",
       "      <td>...</td>\n",
       "      <td>...</td>\n",
       "      <td>...</td>\n",
       "      <td>...</td>\n",
       "    </tr>\n",
       "    <tr>\n",
       "      <th>TuiGAN-PyTorch</th>\n",
       "      <td>0</td>\n",
       "      <td>0</td>\n",
       "      <td>0</td>\n",
       "      <td>0.0</td>\n",
       "      <td>0.0</td>\n",
       "    </tr>\n",
       "    <tr>\n",
       "      <th>VGG_Paper</th>\n",
       "      <td>0</td>\n",
       "      <td>0</td>\n",
       "      <td>0</td>\n",
       "      <td>0.0</td>\n",
       "      <td>0.0</td>\n",
       "    </tr>\n",
       "    <tr>\n",
       "      <th>VLight</th>\n",
       "      <td>0</td>\n",
       "      <td>0</td>\n",
       "      <td>0</td>\n",
       "      <td>0.0</td>\n",
       "      <td>0.0</td>\n",
       "    </tr>\n",
       "    <tr>\n",
       "      <th>vln-bert</th>\n",
       "      <td>0</td>\n",
       "      <td>0</td>\n",
       "      <td>0</td>\n",
       "      <td>0.0</td>\n",
       "      <td>0.0</td>\n",
       "    </tr>\n",
       "    <tr>\n",
       "      <th>xlnet</th>\n",
       "      <td>0</td>\n",
       "      <td>0</td>\n",
       "      <td>0</td>\n",
       "      <td>0.0</td>\n",
       "      <td>0.0</td>\n",
       "    </tr>\n",
       "  </tbody>\n",
       "</table>\n",
       "<p>91 rows × 5 columns</p>\n",
       "</div>"
      ],
      "text/plain": [
       "                                             options_used  \\\n",
       "ade-code                                                0   \n",
       "Adversarial-Robust-Supervised-Sparse-Coding             0   \n",
       "AIED_2021_TRMRC_code                                    0   \n",
       "amortized-rsa                                           0   \n",
       "ApproPO                                                 0   \n",
       "...                                                   ...   \n",
       "TuiGAN-PyTorch                                          0   \n",
       "VGG_Paper                                               0   \n",
       "VLight                                                  0   \n",
       "vln-bert                                                0   \n",
       "xlnet                                                   0   \n",
       "\n",
       "                                             default_options_used  \\\n",
       "ade-code                                                        0   \n",
       "Adversarial-Robust-Supervised-Sparse-Coding                     0   \n",
       "AIED_2021_TRMRC_code                                            0   \n",
       "amortized-rsa                                                   0   \n",
       "ApproPO                                                         0   \n",
       "...                                                           ...   \n",
       "TuiGAN-PyTorch                                                  0   \n",
       "VGG_Paper                                                       0   \n",
       "VLight                                                          0   \n",
       "vln-bert                                                        0   \n",
       "xlnet                                                           0   \n",
       "\n",
       "                                             custom_options_used  \\\n",
       "ade-code                                                       0   \n",
       "Adversarial-Robust-Supervised-Sparse-Coding                    0   \n",
       "AIED_2021_TRMRC_code                                           0   \n",
       "amortized-rsa                                                  0   \n",
       "ApproPO                                                        0   \n",
       "...                                                          ...   \n",
       "TuiGAN-PyTorch                                                 0   \n",
       "VGG_Paper                                                      0   \n",
       "VLight                                                         0   \n",
       "vln-bert                                                       0   \n",
       "xlnet                                                          0   \n",
       "\n",
       "                                             %_default_options_used  \\\n",
       "ade-code                                                        0.0   \n",
       "Adversarial-Robust-Supervised-Sparse-Coding                     0.0   \n",
       "AIED_2021_TRMRC_code                                            0.0   \n",
       "amortized-rsa                                                   0.0   \n",
       "ApproPO                                                         0.0   \n",
       "...                                                             ...   \n",
       "TuiGAN-PyTorch                                                  0.0   \n",
       "VGG_Paper                                                       0.0   \n",
       "VLight                                                          0.0   \n",
       "vln-bert                                                        0.0   \n",
       "xlnet                                                           0.0   \n",
       "\n",
       "                                             %_custom_options_used  \n",
       "ade-code                                                       0.0  \n",
       "Adversarial-Robust-Supervised-Sparse-Coding                    0.0  \n",
       "AIED_2021_TRMRC_code                                           0.0  \n",
       "amortized-rsa                                                  0.0  \n",
       "ApproPO                                                        0.0  \n",
       "...                                                            ...  \n",
       "TuiGAN-PyTorch                                                 0.0  \n",
       "VGG_Paper                                                      0.0  \n",
       "VLight                                                         0.0  \n",
       "vln-bert                                                       0.0  \n",
       "xlnet                                                          0.0  \n",
       "\n",
       "[91 rows x 5 columns]"
      ]
     },
     "execution_count": 35,
     "metadata": {},
     "output_type": "execute_result"
    }
   ],
   "source": [
    "\n",
    "df_without_ml_algorithms = result[result['options_used'] == 0]\n",
    "len(df_without_ml_algorithms)\n",
    "df_without_ml_algorithms"
   ]
  },
  {
   "cell_type": "markdown",
   "metadata": {},
   "source": [
    "How many projects do not use ML algorithms?"
   ]
  },
  {
   "cell_type": "code",
   "execution_count": 36,
   "metadata": {},
   "outputs": [
    {
     "data": {
      "text/html": [
       "<div>\n",
       "<style scoped>\n",
       "    .dataframe tbody tr th:only-of-type {\n",
       "        vertical-align: middle;\n",
       "    }\n",
       "\n",
       "    .dataframe tbody tr th {\n",
       "        vertical-align: top;\n",
       "    }\n",
       "\n",
       "    .dataframe thead th {\n",
       "        text-align: right;\n",
       "    }\n",
       "</style>\n",
       "<table border=\"1\" class=\"dataframe\">\n",
       "  <thead>\n",
       "    <tr style=\"text-align: right;\">\n",
       "      <th></th>\n",
       "      <th>options_used</th>\n",
       "      <th>default_options_used</th>\n",
       "      <th>custom_options_used</th>\n",
       "      <th>%_default_options_used</th>\n",
       "      <th>%_custom_options_used</th>\n",
       "    </tr>\n",
       "  </thead>\n",
       "  <tbody>\n",
       "    <tr>\n",
       "      <th>100DaysofMLCodeChallenge</th>\n",
       "      <td>52</td>\n",
       "      <td>15</td>\n",
       "      <td>37</td>\n",
       "      <td>28.8</td>\n",
       "      <td>71.2</td>\n",
       "    </tr>\n",
       "    <tr>\n",
       "      <th>AI-Feynman</th>\n",
       "      <td>6</td>\n",
       "      <td>0</td>\n",
       "      <td>6</td>\n",
       "      <td>0.0</td>\n",
       "      <td>100.0</td>\n",
       "    </tr>\n",
       "    <tr>\n",
       "      <th>alignarr</th>\n",
       "      <td>6</td>\n",
       "      <td>2</td>\n",
       "      <td>4</td>\n",
       "      <td>33.3</td>\n",
       "      <td>66.7</td>\n",
       "    </tr>\n",
       "    <tr>\n",
       "      <th>AMINN</th>\n",
       "      <td>3</td>\n",
       "      <td>0</td>\n",
       "      <td>3</td>\n",
       "      <td>0.0</td>\n",
       "      <td>100.0</td>\n",
       "    </tr>\n",
       "    <tr>\n",
       "      <th>AttentionXML</th>\n",
       "      <td>7</td>\n",
       "      <td>0</td>\n",
       "      <td>7</td>\n",
       "      <td>0.0</td>\n",
       "      <td>100.0</td>\n",
       "    </tr>\n",
       "    <tr>\n",
       "      <th>...</th>\n",
       "      <td>...</td>\n",
       "      <td>...</td>\n",
       "      <td>...</td>\n",
       "      <td>...</td>\n",
       "      <td>...</td>\n",
       "    </tr>\n",
       "    <tr>\n",
       "      <th>TransformCodingInference</th>\n",
       "      <td>6</td>\n",
       "      <td>0</td>\n",
       "      <td>6</td>\n",
       "      <td>0.0</td>\n",
       "      <td>100.0</td>\n",
       "    </tr>\n",
       "    <tr>\n",
       "      <th>TranSys</th>\n",
       "      <td>6</td>\n",
       "      <td>4</td>\n",
       "      <td>2</td>\n",
       "      <td>66.7</td>\n",
       "      <td>33.3</td>\n",
       "    </tr>\n",
       "    <tr>\n",
       "      <th>tsfresh</th>\n",
       "      <td>3</td>\n",
       "      <td>0</td>\n",
       "      <td>3</td>\n",
       "      <td>0.0</td>\n",
       "      <td>100.0</td>\n",
       "    </tr>\n",
       "    <tr>\n",
       "      <th>up</th>\n",
       "      <td>1</td>\n",
       "      <td>0</td>\n",
       "      <td>1</td>\n",
       "      <td>0.0</td>\n",
       "      <td>100.0</td>\n",
       "    </tr>\n",
       "    <tr>\n",
       "      <th>x-deeplearning</th>\n",
       "      <td>6</td>\n",
       "      <td>0</td>\n",
       "      <td>6</td>\n",
       "      <td>0.0</td>\n",
       "      <td>100.0</td>\n",
       "    </tr>\n",
       "  </tbody>\n",
       "</table>\n",
       "<p>93 rows × 5 columns</p>\n",
       "</div>"
      ],
      "text/plain": [
       "                          options_used  default_options_used  \\\n",
       "100DaysofMLCodeChallenge            52                    15   \n",
       "AI-Feynman                           6                     0   \n",
       "alignarr                             6                     2   \n",
       "AMINN                                3                     0   \n",
       "AttentionXML                         7                     0   \n",
       "...                                ...                   ...   \n",
       "TransformCodingInference             6                     0   \n",
       "TranSys                              6                     4   \n",
       "tsfresh                              3                     0   \n",
       "up                                   1                     0   \n",
       "x-deeplearning                       6                     0   \n",
       "\n",
       "                          custom_options_used  %_default_options_used  \\\n",
       "100DaysofMLCodeChallenge                   37                    28.8   \n",
       "AI-Feynman                                  6                     0.0   \n",
       "alignarr                                    4                    33.3   \n",
       "AMINN                                       3                     0.0   \n",
       "AttentionXML                                7                     0.0   \n",
       "...                                       ...                     ...   \n",
       "TransformCodingInference                    6                     0.0   \n",
       "TranSys                                     2                    66.7   \n",
       "tsfresh                                     3                     0.0   \n",
       "up                                          1                     0.0   \n",
       "x-deeplearning                              6                     0.0   \n",
       "\n",
       "                          %_custom_options_used  \n",
       "100DaysofMLCodeChallenge                   71.2  \n",
       "AI-Feynman                                100.0  \n",
       "alignarr                                   66.7  \n",
       "AMINN                                     100.0  \n",
       "AttentionXML                              100.0  \n",
       "...                                         ...  \n",
       "TransformCodingInference                  100.0  \n",
       "TranSys                                    33.3  \n",
       "tsfresh                                   100.0  \n",
       "up                                        100.0  \n",
       "x-deeplearning                            100.0  \n",
       "\n",
       "[93 rows x 5 columns]"
      ]
     },
     "execution_count": 36,
     "metadata": {},
     "output_type": "execute_result"
    }
   ],
   "source": [
    "df_with_ml_algorithms= result[result['options_used'] > 0]\n",
    "len(df_with_ml_algorithms)\n",
    "df_with_ml_algorithms"
   ]
  },
  {
   "cell_type": "code",
   "execution_count": 37,
   "metadata": {},
   "outputs": [
    {
     "name": "stdout",
     "output_type": "stream",
     "text": [
      "184\n",
      "Total:  914\n",
      "Default:  188\n"
     ]
    }
   ],
   "source": [
    "print(len(result))\n",
    "print(\"Total: \", result[\"options_used\"].sum())\n",
    "print(\"Default: \", result[\"default_options_used\"].sum())"
   ]
  },
  {
   "cell_type": "code",
   "execution_count": 38,
   "metadata": {},
   "outputs": [
    {
     "name": "stdout",
     "output_type": "stream",
     "text": [
      "Average default used:  7.865217391304348\n",
      "Average custom used:  42.67826086956522\n"
     ]
    }
   ],
   "source": [
    "default_used = df_with_ml_algorithms[\"%_default_options_used\"].sum() / 184\n",
    "custom_used = df_with_ml_algorithms[\"%_custom_options_used\"].sum() / 184\n",
    "\n",
    "print(\"Average default used: \", default_used)\n",
    "print(\"Average custom used: \", custom_used)\n"
   ]
  }
 ],
 "metadata": {
  "interpreter": {
   "hash": "9b15ceb2e1c319abb5a3a14f1ef1bcbce2ee8dd1c77d2c4e6466e97ae1997d13"
  },
  "kernelspec": {
   "display_name": "Python 3.9.0 64-bit",
   "language": "python",
   "name": "python3"
  },
  "language_info": {
   "codemirror_mode": {
    "name": "ipython",
    "version": 3
   },
   "file_extension": ".py",
   "mimetype": "text/x-python",
   "name": "python",
   "nbconvert_exporter": "python",
   "pygments_lexer": "ipython3",
   "version": "3.9.0"
  },
  "orig_nbformat": 4
 },
 "nbformat": 4,
 "nbformat_minor": 2
}
