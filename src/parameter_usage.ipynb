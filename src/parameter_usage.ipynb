{
 "cells": [
  {
   "cell_type": "code",
   "execution_count": 49,
   "metadata": {},
   "outputs": [],
   "source": [
    "import pandas as pd\n",
    "import json\n",
    "import glob\n",
    "from collections import Counter\n",
    "from typing import List, Dict"
   ]
  },
  {
   "cell_type": "code",
   "execution_count": 50,
   "metadata": {},
   "outputs": [],
   "source": [
    "pd.set_option('display.max_colwidth', None)\n",
    "\n",
    "def df_to_latex(df: pd.DataFrame) -> None:\n",
    "    print(df.to_latex(index=False))"
   ]
  },
  {
   "cell_type": "code",
   "execution_count": 51,
   "metadata": {},
   "outputs": [
    {
     "data": {
      "text/html": [
       "<div>\n",
       "<style scoped>\n",
       "    .dataframe tbody tr th:only-of-type {\n",
       "        vertical-align: middle;\n",
       "    }\n",
       "\n",
       "    .dataframe tbody tr th {\n",
       "        vertical-align: top;\n",
       "    }\n",
       "\n",
       "    .dataframe thead th {\n",
       "        text-align: right;\n",
       "    }\n",
       "</style>\n",
       "<table border=\"1\" class=\"dataframe\">\n",
       "  <thead>\n",
       "    <tr style=\"text-align: right;\">\n",
       "      <th></th>\n",
       "      <th>Library</th>\n",
       "      <th>Available</th>\n",
       "      <th>Set</th>\n",
       "      <th>Default</th>\n",
       "      <th>Custom</th>\n",
       "    </tr>\n",
       "  </thead>\n",
       "  <tbody>\n",
       "    <tr>\n",
       "      <th>0</th>\n",
       "      <td>sklearn</td>\n",
       "      <td>3404</td>\n",
       "      <td>625</td>\n",
       "      <td>164</td>\n",
       "      <td>461</td>\n",
       "    </tr>\n",
       "  </tbody>\n",
       "</table>\n",
       "</div>"
      ],
      "text/plain": [
       "   Library  Available  Set  Default  Custom\n",
       "0  sklearn       3404  625      164     461"
      ]
     },
     "execution_count": 51,
     "metadata": {},
     "output_type": "execute_result"
    }
   ],
   "source": [
    "def get_module(name, data):\n",
    "    module = next(filter(lambda x: name == x[\"name\"], data))\n",
    "    return module\n",
    "\n",
    "def count_parameters(library_name: str, library_dir: str, files: str) -> pd.DataFrame:\n",
    "\n",
    "    with open(library_dir, \"r\", encoding=\"utf-8\") as library_file:\n",
    "        library_data = json.load(library_file)\n",
    "\n",
    "        # Get Most used Class\n",
    "    classes = []\n",
    "    total_params_set = 0\n",
    "    total_params_available = 0\n",
    "    default_params = 0\n",
    "    customized_params = 0\n",
    "    for project in glob.glob(files):\n",
    "        with open(project, \"r\", encoding=\"utf-8\") as project_file:\n",
    "            project_data = json.load(project_file)\n",
    "\n",
    "            for file in project_data.keys():\n",
    "                file_data = project_data[file]\n",
    "                for library in file_data.keys():\n",
    "                    if library == library_name:\n",
    "                        module_data = file_data[library]\n",
    "                        for key, data in module_data.items():\n",
    "                            if key[0].isupper():\n",
    "                                class_name = key.split(\"_\")[0]\n",
    "                                \n",
    "                                library_module_data = get_module(class_name, library_data)\n",
    "                                library_module_params = library_module_data[\"params\"]\n",
    "                                total_params_available += len(library_module_params)\n",
    "\n",
    "                                for name, value in data.items():\n",
    "                                    if name in (\"variable\", \"params\"):\n",
    "                                        continue\n",
    "                                    else:\n",
    "                                        total_params_set += 1\n",
    "                                        if name in library_module_params.keys():\n",
    "\n",
    "                                            if str(library_module_params[name]).replace(\"'\", \"\") == value[\"value\"]:\n",
    "                                                default_params += 1\n",
    "                                            else:\n",
    "                                                customized_params += 1\n",
    "                                        else:\n",
    "                                            customized_params += 1\n",
    "\n",
    "\n",
    "    assert total_params_set == default_params + customized_params\n",
    "\n",
    "    #print(library_name)\n",
    "    #print(\"total params set:\", total_params_set)\n",
    "    #print(\"total params available:\", total_params_available)\n",
    "    #print(\"default params: \", default_params)\n",
    "    #print(\"custom params: \", customized_params)\n",
    "\n",
    "\n",
    "    df = pd.DataFrame()\n",
    "    df[\"Library\"] = [library_name]\n",
    "    df[\"Available\"] = [total_params_available]\n",
    "    df[\"Set\"] = [total_params_set]\n",
    "    df[\"Default\"] = [default_params]\n",
    "    df[\"Custom\"] = [customized_params]\n",
    "\n",
    "    return df\n",
    "\n",
    "df_sklearn = count_parameters(\"sklearn\", \"modules/sklearn_default_values.json\" , \"data/statistics_old/*\")\n",
    "df_tf = count_parameters(\"tensorflow\", \"modules/tensorflow_default_values.json\" , \"data/statistics_old/*\")\n",
    "df_pytorch = count_parameters(\"torch\", \"modules/torch_default_values.json\" , \"data/statistics_old/*\")\n",
    "df_all = pd.concat([df_sklearn, df_tf, df_pytorch])\n",
    "\n",
    "df_to_latex(df=df_all)\n",
    "\n"
   ]
  }
 ],
 "metadata": {
  "kernelspec": {
   "display_name": "Python 3.9.0 64-bit",
   "language": "python",
   "name": "python3"
  },
  "language_info": {
   "codemirror_mode": {
    "name": "ipython",
    "version": 3
   },
   "file_extension": ".py",
   "mimetype": "text/x-python",
   "name": "python",
   "nbconvert_exporter": "python",
   "pygments_lexer": "ipython3",
   "version": "3.9.0"
  },
  "orig_nbformat": 4,
  "vscode": {
   "interpreter": {
    "hash": "baf69434822515d6eb5706280ed4fdf1abcb6899576a97bde367cb051faeb565"
   }
  }
 },
 "nbformat": 4,
 "nbformat_minor": 2
}
