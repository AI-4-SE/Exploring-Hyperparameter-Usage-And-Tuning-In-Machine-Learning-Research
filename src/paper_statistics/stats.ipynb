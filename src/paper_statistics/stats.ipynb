{
 "cells": [
  {
   "cell_type": "code",
   "execution_count": 104,
   "metadata": {},
   "outputs": [],
   "source": [
    "import pandas as pd\n",
    "import numpy as np\n",
    "from collections import Counter\n",
    "from domains import computer_science"
   ]
  },
  {
   "cell_type": "code",
   "execution_count": 105,
   "metadata": {},
   "outputs": [],
   "source": [
    "df = pd.read_csv(\"metadata-cleaned.csv\")\n"
   ]
  },
  {
   "cell_type": "code",
   "execution_count": 106,
   "metadata": {},
   "outputs": [
    {
     "name": "stdout",
     "output_type": "stream",
     "text": [
      "Hyperparameter tuned? (yes, no):  515 1485\n",
      "Hyperparameter tuned? (yes%, no%):  0.2575 0.7425\n",
      "Model parameter trained? (yes, no)  1484 516\n",
      "Model parameter trained? (yes%, no%)  0.742 0.258\n"
     ]
    }
   ],
   "source": [
    "hp_no = np.sum(df[\"hyperparameter\"] == \"no\")\n",
    "hp_yes = np.sum(df[\"hyperparameter\"] == \"yes\")\n",
    "\n",
    "mp_no = np.sum(df[\"model parameters\"] == \"no\")\n",
    "mp_yes = np.sum(df[\"model parameters\"] == \"yes\")\n",
    "\n",
    "\n",
    "print(\"Hyperparameter tuned? (yes, no): \", hp_yes, hp_no)\n",
    "print(\"Hyperparameter tuned? (yes%, no%): \", hp_yes/2000, hp_no/2000)\n",
    "print(\"Model parameter trained? (yes, no) \", mp_yes, mp_no)\n",
    "print(\"Model parameter trained? (yes%, no%) \", mp_yes/2000, mp_no/2000)"
   ]
  },
  {
   "cell_type": "code",
   "execution_count": 107,
   "metadata": {},
   "outputs": [
    {
     "name": "stdout",
     "output_type": "stream",
     "text": [
      "Final values reported? (yes, no)  1281 719\n",
      "Final values reported? (yes%, no%)  0.6405 0.3595\n"
     ]
    }
   ],
   "source": [
    "df[\"final values\"] = df[\"final values\"].fillna(\"no\").replace(\"not all\", \"yes\")\n",
    "\n",
    "fv_yes = np.sum(df[\"final values\"] == \"yes\")\n",
    "fv_no = np.sum(df[\"final values\"] == \"no\")\n",
    "\n",
    "print(\"Final values reported? (yes, no) \", fv_yes, fv_no)\n",
    "print(\"Final values reported? (yes%, no%) \", fv_yes/2000, fv_no/2000)\n"
   ]
  },
  {
   "cell_type": "code",
   "execution_count": 108,
   "metadata": {},
   "outputs": [
    {
     "name": "stdout",
     "output_type": "stream",
     "text": [
      "94\n"
     ]
    },
    {
     "data": {
      "text/html": [
       "<div>\n",
       "<style scoped>\n",
       "    .dataframe tbody tr th:only-of-type {\n",
       "        vertical-align: middle;\n",
       "    }\n",
       "\n",
       "    .dataframe tbody tr th {\n",
       "        vertical-align: top;\n",
       "    }\n",
       "\n",
       "    .dataframe thead th {\n",
       "        text-align: right;\n",
       "    }\n",
       "</style>\n",
       "<table border=\"1\" class=\"dataframe\">\n",
       "  <thead>\n",
       "    <tr style=\"text-align: right;\">\n",
       "      <th></th>\n",
       "      <th>Technique</th>\n",
       "      <th>Count</th>\n",
       "    </tr>\n",
       "  </thead>\n",
       "  <tbody>\n",
       "    <tr>\n",
       "      <th>0</th>\n",
       "      <td>adam</td>\n",
       "      <td>856</td>\n",
       "    </tr>\n",
       "    <tr>\n",
       "      <th>1</th>\n",
       "      <td>nan</td>\n",
       "      <td>632</td>\n",
       "    </tr>\n",
       "    <tr>\n",
       "      <th>4</th>\n",
       "      <td>sgd</td>\n",
       "      <td>295</td>\n",
       "    </tr>\n",
       "    <tr>\n",
       "      <th>2</th>\n",
       "      <td>grid search</td>\n",
       "      <td>133</td>\n",
       "    </tr>\n",
       "    <tr>\n",
       "      <th>8</th>\n",
       "      <td>experimental tuning</td>\n",
       "      <td>88</td>\n",
       "    </tr>\n",
       "    <tr>\n",
       "      <th>...</th>\n",
       "      <td>...</td>\n",
       "      <td>...</td>\n",
       "    </tr>\n",
       "    <tr>\n",
       "      <th>55</th>\n",
       "      <td>adabelief</td>\n",
       "      <td>1</td>\n",
       "    </tr>\n",
       "    <tr>\n",
       "      <th>56</th>\n",
       "      <td>yellowfin optimizer</td>\n",
       "      <td>1</td>\n",
       "    </tr>\n",
       "    <tr>\n",
       "      <th>57</th>\n",
       "      <td>lars optimizer</td>\n",
       "      <td>1</td>\n",
       "    </tr>\n",
       "    <tr>\n",
       "      <th>58</th>\n",
       "      <td>gaussian bandit optimization</td>\n",
       "      <td>1</td>\n",
       "    </tr>\n",
       "    <tr>\n",
       "      <th>93</th>\n",
       "      <td>supersgd</td>\n",
       "      <td>1</td>\n",
       "    </tr>\n",
       "  </tbody>\n",
       "</table>\n",
       "<p>94 rows × 2 columns</p>\n",
       "</div>"
      ],
      "text/plain": [
       "                       Technique  Count\n",
       "0                           adam    856\n",
       "1                            nan    632\n",
       "4                            sgd    295\n",
       "2                    grid search    133\n",
       "8            experimental tuning     88\n",
       "..                           ...    ...\n",
       "55                     adabelief      1\n",
       "56           yellowfin optimizer      1\n",
       "57                lars optimizer      1\n",
       "58  gaussian bandit optimization      1\n",
       "93                      supersgd      1\n",
       "\n",
       "[94 rows x 2 columns]"
      ]
     },
     "execution_count": 108,
     "metadata": {},
     "output_type": "execute_result"
    }
   ],
   "source": [
    "technique_data = []\n",
    "\n",
    "\n",
    "for _, row in df.iterrows():\n",
    "    techniques = str(row[\"techniques\"]).lower()\n",
    "    for x in techniques.split(\",\"):\n",
    "        if x:\n",
    "            technique_data.append(x.strip())\n",
    "\n",
    "technique_counter = Counter(technique_data)\n",
    "print(len(technique_counter))\n",
    "df_techniques = pd.DataFrame.from_dict(technique_counter, orient=\"index\").reset_index()\n",
    "df_techniques = df_techniques.rename(columns={'index':'Technique', 0:'Count'})\n",
    "df_techniques = df_techniques.sort_values(by=['Count'], ascending=False)\n",
    "#print(df_techniques.to_string())\n",
    "df_techniques\n"
   ]
  },
  {
   "cell_type": "code",
   "execution_count": 112,
   "metadata": {},
   "outputs": [
    {
     "name": "stdout",
     "output_type": "stream",
     "text": [
      "\\begin{tabular}{lr}\n",
      "\\toprule\n",
      "                                         Domain &  Count \\\\\n",
      "\\midrule\n",
      "                                           None &   1286 \\\\\n",
      "                               Machine Learning &   1243 \\\\\n",
      "        Computer Vision and Pattern Recognition &   1097 \\\\\n",
      "                       Computation and Language &    475 \\\\\n",
      "                        Artificial Intelligence &    368 \\\\\n",
      "              Neural and Evolutionary Computing &    110 \\\\\n",
      "                                       Robotics &     84 \\\\\n",
      "                          Information Retrieval &     68 \\\\\n",
      "                      Cryptography and Security &     62 \\\\\n",
      "                                          Sound &     57 \\\\\n",
      "                Social and Information Networks &     39 \\\\\n",
      "                                       Graphics &     35 \\\\\n",
      "                                     Multimedia &     33 \\\\\n",
      "   Distributed, Parallel, and Cluster Computing &     24 \\\\\n",
      "                             Information Theory &     21 \\\\\n",
      "                            Systems and Control &     20 \\\\\n",
      "                           Software Engineering &     19 \\\\\n",
      "                     Human-Computer Interaction &     18 \\\\\n",
      "                          Computers and Society &     16 \\\\\n",
      "                             Multiagent Systems &     15 \\\\\n",
      "                                      Databases &     14 \\\\\n",
      "                      Logic in Computer Science &      8 \\\\\n",
      "                          Programming Languages &      7 \\\\\n",
      "                 Data Structures and Algorithms &      7 \\\\\n",
      "                              Computer Geometry &      6 \\\\\n",
      "           Networking and Internet Architecture &      5 \\\\\n",
      "                                    Performance &      5 \\\\\n",
      "                             Numerical Analysis &      4 \\\\\n",
      "                           Symbolic Computation &      4 \\\\\n",
      "Computational Engineering, Finance, and Science &      3 \\\\\n",
      "                          Mathematical Software &      3 \\\\\n",
      "                         Other Computer Science &      2 \\\\\n",
      "                          Emerging Technologies &      2 \\\\\n",
      "                          Hardware Architecture &      1 \\\\\n",
      "                              Digital Libraries &      1 \\\\\n",
      "               Computer Science and Game Theory &      1 \\\\\n",
      "           Formal Languages and Automata Theory &      1 \\\\\n",
      "\\bottomrule\n",
      "\\end{tabular}\n",
      "\n"
     ]
    },
    {
     "name": "stderr",
     "output_type": "stream",
     "text": [
      "C:\\Users\\ssimon\\AppData\\Local\\Temp\\ipykernel_20124\\3118933219.py:13: FutureWarning: In future versions `DataFrame.to_latex` is expected to utilise the base implementation of `Styler.to_latex` for formatting and rendering. The arguments signature may therefore change. It is recommended instead to use `DataFrame.style.to_latex` which also contains additional functionality.\n",
      "  print(df_domains.to_latex(index=False))\n"
     ]
    }
   ],
   "source": [
    "domain_data = []\n",
    "\n",
    "for index, row in df.iterrows():\n",
    "    categories= str(row[\"arxiv_categories\"])\n",
    "    for x in categories.split(\" \"):\n",
    "        domain_data.append(x)\n",
    "\n",
    "data_replaced = [computer_science[x] if x in computer_science else \"None\" for x in data]\n",
    "domain_counter = Counter(data_replaced)\n",
    "df_domains = pd.DataFrame.from_dict(domain_counter, orient=\"index\").reset_index()\n",
    "df_domains = df_domains.rename(columns={'index':'Domain', 0:'Count'})\n",
    "df_domains = df_domains.sort_values(by=['Count'], ascending=False)\n",
    "print(df_domains.to_latex(index=False))"
   ]
  }
 ],
 "metadata": {
  "kernelspec": {
   "display_name": "Python 3.10.7 64-bit",
   "language": "python",
   "name": "python3"
  },
  "language_info": {
   "codemirror_mode": {
    "name": "ipython",
    "version": 3
   },
   "file_extension": ".py",
   "mimetype": "text/x-python",
   "name": "python",
   "nbconvert_exporter": "python",
   "pygments_lexer": "ipython3",
   "version": "3.10.7"
  },
  "orig_nbformat": 4,
  "vscode": {
   "interpreter": {
    "hash": "369f2c481f4da34e4445cda3fffd2e751bd1c4d706f27375911949ba6bb62e1c"
   }
  }
 },
 "nbformat": 4,
 "nbformat_minor": 2
}
