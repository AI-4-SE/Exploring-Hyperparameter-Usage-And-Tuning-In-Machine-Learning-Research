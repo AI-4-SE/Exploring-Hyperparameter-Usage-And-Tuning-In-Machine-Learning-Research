{
 "cells": [
  {
   "cell_type": "code",
   "execution_count": null,
   "metadata": {},
   "outputs": [],
   "source": [
    "import glob\n",
    "import json\n",
    "from collections import Counter\n",
    "import pandas as pd\n",
    "\n",
    "SKLEARN_DATA = \"modules/sklearn_modules.json\"\n",
    "STATISTICS_DATA_DIR = \"statistics/\""
   ]
  },
  {
   "cell_type": "code",
   "execution_count": null,
   "metadata": {},
   "outputs": [],
   "source": [
    "with open(SKLEARN_DATA, \"r\", encoding=\"utf-8\") as sklearn_file:\n",
    "    sklearn_data = json.load(sklearn_file)"
   ]
  },
  {
   "cell_type": "code",
   "execution_count": null,
   "metadata": {},
   "outputs": [],
   "source": [
    "with open(\"100DaysOfMLCodeChallenge_params.json\", \"r\", encoding=\"utf-8\") as project_file:\n",
    "    project_data = json.load(project_file)\n",
    "\n",
    "    for file_data in project_data:\n",
    "        print(\"========\")\n",
    "        print(file_data)"
   ]
  }
 ],
 "metadata": {
  "language_info": {
   "name": "python"
  },
  "orig_nbformat": 4
 },
 "nbformat": 4,
 "nbformat_minor": 2
}
