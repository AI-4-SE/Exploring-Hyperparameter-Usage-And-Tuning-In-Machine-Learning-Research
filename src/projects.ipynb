{
 "cells": [
  {
   "cell_type": "code",
   "execution_count": 75,
   "metadata": {},
   "outputs": [],
   "source": [
    "import glob\n",
    "import json\n",
    "import pandas as pd\n",
    "\n",
    "SKLEARN_DATA = \"../data/sklearn/modules/sklearn_modules.json\"\n",
    "\n",
    "ALL_SKLEARN_PROJECTS = \"statistics/sklearn/statistics/*\"\n",
    "ALL_TENSORFLOW_PROJECTS = \"statistics/tensorflow/statistics/*\"\n",
    "ALL_PYTORCH_PROJECTS = \"statistics/pytorch/statistics/*\""
   ]
  },
  {
   "cell_type": "markdown",
   "metadata": {},
   "source": [
    "Calculate number of options for each project"
   ]
  },
  {
   "cell_type": "code",
   "execution_count": 76,
   "metadata": {},
   "outputs": [
    {
     "data": {
      "text/html": [
       "<div>\n",
       "<style scoped>\n",
       "    .dataframe tbody tr th:only-of-type {\n",
       "        vertical-align: middle;\n",
       "    }\n",
       "\n",
       "    .dataframe tbody tr th {\n",
       "        vertical-align: top;\n",
       "    }\n",
       "\n",
       "    .dataframe thead th {\n",
       "        text-align: right;\n",
       "    }\n",
       "</style>\n",
       "<table border=\"1\" class=\"dataframe\">\n",
       "  <thead>\n",
       "    <tr style=\"text-align: right;\">\n",
       "      <th></th>\n",
       "      <th>total</th>\n",
       "      <th>total_default</th>\n",
       "      <th>total_custom</th>\n",
       "      <th>percent_default</th>\n",
       "      <th>percent_custom</th>\n",
       "    </tr>\n",
       "  </thead>\n",
       "  <tbody>\n",
       "    <tr>\n",
       "      <th>100DaysofMLCodeChallenge</th>\n",
       "      <td>52</td>\n",
       "      <td>15</td>\n",
       "      <td>37</td>\n",
       "      <td>28.8</td>\n",
       "      <td>71.2</td>\n",
       "    </tr>\n",
       "    <tr>\n",
       "      <th>ade-code</th>\n",
       "      <td>0</td>\n",
       "      <td>0</td>\n",
       "      <td>0</td>\n",
       "      <td>0.0</td>\n",
       "      <td>0.0</td>\n",
       "    </tr>\n",
       "    <tr>\n",
       "      <th>Adversarial-Robust-Supervised-Sparse-Coding</th>\n",
       "      <td>0</td>\n",
       "      <td>0</td>\n",
       "      <td>0</td>\n",
       "      <td>0.0</td>\n",
       "      <td>0.0</td>\n",
       "    </tr>\n",
       "    <tr>\n",
       "      <th>AI-Feynman</th>\n",
       "      <td>6</td>\n",
       "      <td>0</td>\n",
       "      <td>6</td>\n",
       "      <td>0.0</td>\n",
       "      <td>100.0</td>\n",
       "    </tr>\n",
       "    <tr>\n",
       "      <th>AIED_2021_TRMRC_code</th>\n",
       "      <td>0</td>\n",
       "      <td>0</td>\n",
       "      <td>0</td>\n",
       "      <td>0.0</td>\n",
       "      <td>0.0</td>\n",
       "    </tr>\n",
       "    <tr>\n",
       "      <th>...</th>\n",
       "      <td>...</td>\n",
       "      <td>...</td>\n",
       "      <td>...</td>\n",
       "      <td>...</td>\n",
       "      <td>...</td>\n",
       "    </tr>\n",
       "    <tr>\n",
       "      <th>VGG_Paper</th>\n",
       "      <td>0</td>\n",
       "      <td>0</td>\n",
       "      <td>0</td>\n",
       "      <td>0.0</td>\n",
       "      <td>0.0</td>\n",
       "    </tr>\n",
       "    <tr>\n",
       "      <th>VLight</th>\n",
       "      <td>0</td>\n",
       "      <td>0</td>\n",
       "      <td>0</td>\n",
       "      <td>0.0</td>\n",
       "      <td>0.0</td>\n",
       "    </tr>\n",
       "    <tr>\n",
       "      <th>vln-bert</th>\n",
       "      <td>0</td>\n",
       "      <td>0</td>\n",
       "      <td>0</td>\n",
       "      <td>0.0</td>\n",
       "      <td>0.0</td>\n",
       "    </tr>\n",
       "    <tr>\n",
       "      <th>x-deeplearning</th>\n",
       "      <td>6</td>\n",
       "      <td>0</td>\n",
       "      <td>6</td>\n",
       "      <td>0.0</td>\n",
       "      <td>100.0</td>\n",
       "    </tr>\n",
       "    <tr>\n",
       "      <th>xlnet</th>\n",
       "      <td>0</td>\n",
       "      <td>0</td>\n",
       "      <td>0</td>\n",
       "      <td>0.0</td>\n",
       "      <td>0.0</td>\n",
       "    </tr>\n",
       "  </tbody>\n",
       "</table>\n",
       "<p>141 rows × 5 columns</p>\n",
       "</div>"
      ],
      "text/plain": [
       "                                             total  total_default  \\\n",
       "100DaysofMLCodeChallenge                        52             15   \n",
       "ade-code                                         0              0   \n",
       "Adversarial-Robust-Supervised-Sparse-Coding      0              0   \n",
       "AI-Feynman                                       6              0   \n",
       "AIED_2021_TRMRC_code                             0              0   \n",
       "...                                            ...            ...   \n",
       "VGG_Paper                                        0              0   \n",
       "VLight                                           0              0   \n",
       "vln-bert                                         0              0   \n",
       "x-deeplearning                                   6              0   \n",
       "xlnet                                            0              0   \n",
       "\n",
       "                                             total_custom  percent_default  \\\n",
       "100DaysofMLCodeChallenge                               37             28.8   \n",
       "ade-code                                                0              0.0   \n",
       "Adversarial-Robust-Supervised-Sparse-Coding             0              0.0   \n",
       "AI-Feynman                                              6              0.0   \n",
       "AIED_2021_TRMRC_code                                    0              0.0   \n",
       "...                                                   ...              ...   \n",
       "VGG_Paper                                               0              0.0   \n",
       "VLight                                                  0              0.0   \n",
       "vln-bert                                                0              0.0   \n",
       "x-deeplearning                                          6              0.0   \n",
       "xlnet                                                   0              0.0   \n",
       "\n",
       "                                             percent_custom  \n",
       "100DaysofMLCodeChallenge                               71.2  \n",
       "ade-code                                                0.0  \n",
       "Adversarial-Robust-Supervised-Sparse-Coding             0.0  \n",
       "AI-Feynman                                            100.0  \n",
       "AIED_2021_TRMRC_code                                    0.0  \n",
       "...                                                     ...  \n",
       "VGG_Paper                                               0.0  \n",
       "VLight                                                  0.0  \n",
       "vln-bert                                                0.0  \n",
       "x-deeplearning                                        100.0  \n",
       "xlnet                                                   0.0  \n",
       "\n",
       "[141 rows x 5 columns]"
      ]
     },
     "execution_count": 76,
     "metadata": {},
     "output_type": "execute_result"
    }
   ],
   "source": [
    "projects = []\n",
    "project_names = []\n",
    "project_total_default = []\n",
    "project_total_custom = []\n",
    "\n",
    "with open(SKLEARN_DATA, \"r\", encoding=\"utf-8\") as sklearn_file:\n",
    "    sklearn_data = json.load(sklearn_file)\n",
    "\n",
    "for project in glob.glob(ALL_SKLEARN_PROJECTS):\n",
    "    default_counter = 0\n",
    "    custom_counter = 0\n",
    "    total_counter = 0\n",
    "    project_name = project.split(\"\\\\\")[-1].split(\".\")[0]\n",
    "    project_name = project_name.replace(\"statistics_\", \"\")\n",
    "\n",
    "    with open(project, \"r\", encoding=\"utf-8\") as project_file:\n",
    "        project_data = json.load(project_file)\n",
    "\n",
    "    for file in project_data:\n",
    "        file_data = project_data[file]\n",
    "\n",
    "        for module in file_data:\n",
    "            module_name = module.split(\"_\")[0]\n",
    "            sklearn_module = next(filter(lambda x: x[\"name\"] == module_name, sklearn_data))\n",
    "            module_data = file_data[module]\n",
    "\n",
    "            if module_data:\n",
    "                for option in module_data:\n",
    "                    total_counter += 1\n",
    "                    try:\n",
    "                        param = next(filter(lambda x: x[0] == option, sklearn_module[\"params\"]))\n",
    "                        default_value = param[1].split(\"=\")[-1]\n",
    "                        option_value = module_data[option]   \n",
    "                        if default_value == option_value:\n",
    "                            default_counter += 1\n",
    "                        else:\n",
    "                            custom_counter +=1\n",
    "                    except:\n",
    "                        custom_counter +=1\n",
    "    \n",
    "    percent_default = 0 if total_counter == 0 else round((default_counter/total_counter)*100, 1)\n",
    "    percent_custom = 0 if total_counter == 0 else round((custom_counter/total_counter)*100, 1)\n",
    "\n",
    "\n",
    "    project_names.append(project_name)\n",
    "    project_total_default.append(default_counter)\n",
    "    project_total_custom.append(custom_counter)\n",
    "\n",
    "    data = {\n",
    "        \"total\": {project_name: total_counter},\n",
    "        \"total_default\": {project_name: default_counter},\n",
    "        \"total_custom\": {project_name: custom_counter},\n",
    "        \"percent_default\": {project_name: percent_default},\n",
    "        \"percent_custom\": {project_name: percent_custom},\n",
    "    }\n",
    "\n",
    "    df = pd.DataFrame.from_dict(data)\n",
    "    projects.append(df)\n",
    "\n",
    "result = pd.concat(projects)\n",
    "result"
   ]
  },
  {
   "cell_type": "code",
   "execution_count": 77,
   "metadata": {},
   "outputs": [
    {
     "data": {
      "application/vnd.plotly.v1+json": {
       "config": {
        "plotlyServerURL": "https://plot.ly"
       },
       "data": [
        {
         "name": "default",
         "type": "bar",
         "x": [
          "100DaysofMLCodeChallenge",
          "ade-code",
          "Adversarial-Robust-Supervised-Sparse-Coding",
          "AI-Feynman",
          "AIED_2021_TRMRC_code",
          "alignarr",
          "AMINN",
          "amortized-rsa",
          "ApproPO",
          "ATRank",
          "attention_network_experiments",
          "Audio_recognition_",
          "AVATAR",
          "baller2vec",
          "Basic_TCN",
          "bert-ada",
          "BERT_LRP",
          "Brain-Tumour-Segmentation-Dissertation",
          "BrainRegressorCNN",
          "bsldict",
          "cartography",
          "CC-WGAN-GP",
          "CE3",
          "CGS",
          "chinese-sentiment-classification",
          "cloud-masking-ANNs",
          "cloud-masking-SOMs",
          "cnn-rnf",
          "COMS4995_Team_4_Zero_Shot_Classifier",
          "contact-human-dynamics",
          "COVID-DA",
          "covid_19_hate_speech",
          "CS498_DL_Project",
          "csmri-refinement",
          "CVPR19_Incremental_Learning",
          "DANet",
          "DeepMapping",
          "DenoiSeg",
          "density-peaks-sentence-clustering",
          "differential-mdl-change-statistics",
          "disentanglement",
          "distant-temprel",
          "DRESS_DeepRL",
          "DrumGAN",
          "ECBM6040-Project",
          "ethics",
          "etnlp",
          "ExpFinder",
          "facenet",
          "Fair-Max-Entropy-Distributions",
          "FashionMNST",
          "FEDL_pytorch",
          "fever2-columbia",
          "FIAQM",
          "Gamma-Ray-Point-Source-Detector",
          "GAN2",
          "geostyle",
          "GettingToKnowYou",
          "GIB",
          "GL-AT",
          "gmu-mmimdb",
          "GoodNews",
          "GPV",
          "hdmi",
          "Heterogeneity-Loss-to-Handle-Intersubject-and-Intrasubject-Variability-in-Cancer",
          "HSRL",
          "HUNet",
          "IBM_seizure_data",
          "Image-Interpolation-via-adaptive-separable-convolution",
          "Inductive-representation-learning-on-temporal-graphs",
          "Information-in-Language",
          "IterAvg",
          "key-protected-classification",
          "knee-cartilage-segmentation",
          "label-efficient-brain-tumor-segmentation",
          "LAE",
          "learning-to-segment",
          "lio",
          "MACH",
          "MAN-PAR-",
          "maua-stylegan2",
          "Mem2Seq",
          "MI-on-EL",
          "mlvsgarch",
          "ML_intermetallics",
          "mmdetection",
          "modified_sentence_transfomers",
          "moeadpy",
          "multiscale-adversarial-attention-gates",
          "multiview-subword-regularization",
          "network-deconfounder-wsdm20",
          "Neural-Snowball",
          "neuralese",
          "NHNN",
          "NIPS2017",
          "nlg-bias",
          "no_frills_hoi_det",
          "OAAG",
          "Object_Detection_Tracking",
          "OverlapPredator",
          "paper_boltzmann_generators",
          "parametric-contrastive-learning",
          "parcels",
          "PDN",
          "PMN",
          "quffka",
          "ReferentialGym",
          "RISClusterPT",
          "Rosita",
          "ROT",
          "s-rafni",
          "SaintPlus-Knowledge-Tracing-Pytorch",
          "Semantics-AssistedVideoCaptioning",
          "seq2seq-EVC",
          "seqbed",
          "sgas",
          "shape_aware_segmentation",
          "simclr-pytorch",
          "SincConvBasedSpeakerRecognition",
          "skeleton-contrast",
          "sketching_optimisation",
          "Spike-GAN",
          "StarGAN-Voice-Conversion",
          "stochasticity_in_neural_ode",
          "Structural-core",
          "Subjective-Class-Issue",
          "SubmodularStreamingMaximization",
          "Super-Resolution_CNN-PyTorch",
          "synthetic",
          "tcn-master",
          "Testing-1",
          "this-before-that",
          "TOCCA",
          "TrajectorySet",
          "TuiGAN-PyTorch",
          "up",
          "VGG_Paper",
          "VLight",
          "vln-bert",
          "x-deeplearning",
          "xlnet"
         ],
         "y": [
          15,
          0,
          0,
          0,
          0,
          2,
          0,
          0,
          0,
          0,
          0,
          0,
          0,
          0,
          0,
          0,
          0,
          0,
          0,
          0,
          0,
          0,
          0,
          0,
          0,
          0,
          2,
          0,
          1,
          0,
          0,
          4,
          1,
          0,
          0,
          0,
          2,
          0,
          0,
          0,
          0,
          0,
          0,
          0,
          0,
          0,
          0,
          1,
          2,
          0,
          0,
          0,
          0,
          2,
          0,
          0,
          0,
          0,
          1,
          0,
          0,
          0,
          0,
          0,
          0,
          0,
          2,
          0,
          0,
          0,
          0,
          0,
          0,
          0,
          0,
          0,
          0,
          0,
          0,
          0,
          0,
          0,
          0,
          1,
          2,
          0,
          0,
          0,
          0,
          0,
          0,
          0,
          0,
          1,
          0,
          0,
          0,
          0,
          0,
          0,
          0,
          0,
          0,
          0,
          0,
          0,
          1,
          3,
          0,
          0,
          0,
          0,
          0,
          0,
          0,
          0,
          0,
          0,
          0,
          0,
          0,
          0,
          0,
          0,
          0,
          0,
          0,
          0,
          0,
          0,
          0,
          0,
          1,
          0,
          0,
          0,
          0,
          0,
          0,
          0,
          0
         ]
        },
        {
         "name": "custom",
         "type": "bar",
         "x": [
          "100DaysofMLCodeChallenge",
          "ade-code",
          "Adversarial-Robust-Supervised-Sparse-Coding",
          "AI-Feynman",
          "AIED_2021_TRMRC_code",
          "alignarr",
          "AMINN",
          "amortized-rsa",
          "ApproPO",
          "ATRank",
          "attention_network_experiments",
          "Audio_recognition_",
          "AVATAR",
          "baller2vec",
          "Basic_TCN",
          "bert-ada",
          "BERT_LRP",
          "Brain-Tumour-Segmentation-Dissertation",
          "BrainRegressorCNN",
          "bsldict",
          "cartography",
          "CC-WGAN-GP",
          "CE3",
          "CGS",
          "chinese-sentiment-classification",
          "cloud-masking-ANNs",
          "cloud-masking-SOMs",
          "cnn-rnf",
          "COMS4995_Team_4_Zero_Shot_Classifier",
          "contact-human-dynamics",
          "COVID-DA",
          "covid_19_hate_speech",
          "CS498_DL_Project",
          "csmri-refinement",
          "CVPR19_Incremental_Learning",
          "DANet",
          "DeepMapping",
          "DenoiSeg",
          "density-peaks-sentence-clustering",
          "differential-mdl-change-statistics",
          "disentanglement",
          "distant-temprel",
          "DRESS_DeepRL",
          "DrumGAN",
          "ECBM6040-Project",
          "ethics",
          "etnlp",
          "ExpFinder",
          "facenet",
          "Fair-Max-Entropy-Distributions",
          "FashionMNST",
          "FEDL_pytorch",
          "fever2-columbia",
          "FIAQM",
          "Gamma-Ray-Point-Source-Detector",
          "GAN2",
          "geostyle",
          "GettingToKnowYou",
          "GIB",
          "GL-AT",
          "gmu-mmimdb",
          "GoodNews",
          "GPV",
          "hdmi",
          "Heterogeneity-Loss-to-Handle-Intersubject-and-Intrasubject-Variability-in-Cancer",
          "HSRL",
          "HUNet",
          "IBM_seizure_data",
          "Image-Interpolation-via-adaptive-separable-convolution",
          "Inductive-representation-learning-on-temporal-graphs",
          "Information-in-Language",
          "IterAvg",
          "key-protected-classification",
          "knee-cartilage-segmentation",
          "label-efficient-brain-tumor-segmentation",
          "LAE",
          "learning-to-segment",
          "lio",
          "MACH",
          "MAN-PAR-",
          "maua-stylegan2",
          "Mem2Seq",
          "MI-on-EL",
          "mlvsgarch",
          "ML_intermetallics",
          "mmdetection",
          "modified_sentence_transfomers",
          "moeadpy",
          "multiscale-adversarial-attention-gates",
          "multiview-subword-regularization",
          "network-deconfounder-wsdm20",
          "Neural-Snowball",
          "neuralese",
          "NHNN",
          "NIPS2017",
          "nlg-bias",
          "no_frills_hoi_det",
          "OAAG",
          "Object_Detection_Tracking",
          "OverlapPredator",
          "paper_boltzmann_generators",
          "parametric-contrastive-learning",
          "parcels",
          "PDN",
          "PMN",
          "quffka",
          "ReferentialGym",
          "RISClusterPT",
          "Rosita",
          "ROT",
          "s-rafni",
          "SaintPlus-Knowledge-Tracing-Pytorch",
          "Semantics-AssistedVideoCaptioning",
          "seq2seq-EVC",
          "seqbed",
          "sgas",
          "shape_aware_segmentation",
          "simclr-pytorch",
          "SincConvBasedSpeakerRecognition",
          "skeleton-contrast",
          "sketching_optimisation",
          "Spike-GAN",
          "StarGAN-Voice-Conversion",
          "stochasticity_in_neural_ode",
          "Structural-core",
          "Subjective-Class-Issue",
          "SubmodularStreamingMaximization",
          "Super-Resolution_CNN-PyTorch",
          "synthetic",
          "tcn-master",
          "Testing-1",
          "this-before-that",
          "TOCCA",
          "TrajectorySet",
          "TuiGAN-PyTorch",
          "up",
          "VGG_Paper",
          "VLight",
          "vln-bert",
          "x-deeplearning",
          "xlnet"
         ],
         "y": [
          37,
          0,
          0,
          6,
          0,
          4,
          3,
          0,
          0,
          0,
          0,
          0,
          0,
          0,
          0,
          0,
          0,
          0,
          0,
          0,
          0,
          0,
          2,
          3,
          0,
          0,
          0,
          0,
          0,
          2,
          0,
          19,
          2,
          0,
          0,
          0,
          2,
          0,
          0,
          0,
          4,
          0,
          0,
          1,
          3,
          0,
          0,
          2,
          2,
          0,
          0,
          0,
          0,
          0,
          1,
          0,
          0,
          0,
          1,
          0,
          4,
          3,
          0,
          1,
          0,
          0,
          0,
          4,
          0,
          0,
          0,
          0,
          0,
          0,
          3,
          0,
          10,
          0,
          0,
          0,
          1,
          0,
          0,
          0,
          6,
          0,
          2,
          4,
          0,
          0,
          2,
          0,
          0,
          9,
          2,
          0,
          0,
          0,
          0,
          0,
          0,
          0,
          4,
          0,
          2,
          0,
          6,
          17,
          0,
          0,
          2,
          0,
          0,
          0,
          3,
          0,
          0,
          0,
          0,
          2,
          2,
          0,
          0,
          0,
          0,
          0,
          0,
          0,
          0,
          0,
          2,
          6,
          8,
          2,
          0,
          1,
          0,
          0,
          0,
          6,
          0
         ]
        }
       ],
       "layout": {
        "barmode": "stack",
        "template": {
         "data": {
          "bar": [
           {
            "error_x": {
             "color": "#2a3f5f"
            },
            "error_y": {
             "color": "#2a3f5f"
            },
            "marker": {
             "line": {
              "color": "#E5ECF6",
              "width": 0.5
             },
             "pattern": {
              "fillmode": "overlay",
              "size": 10,
              "solidity": 0.2
             }
            },
            "type": "bar"
           }
          ],
          "barpolar": [
           {
            "marker": {
             "line": {
              "color": "#E5ECF6",
              "width": 0.5
             },
             "pattern": {
              "fillmode": "overlay",
              "size": 10,
              "solidity": 0.2
             }
            },
            "type": "barpolar"
           }
          ],
          "carpet": [
           {
            "aaxis": {
             "endlinecolor": "#2a3f5f",
             "gridcolor": "white",
             "linecolor": "white",
             "minorgridcolor": "white",
             "startlinecolor": "#2a3f5f"
            },
            "baxis": {
             "endlinecolor": "#2a3f5f",
             "gridcolor": "white",
             "linecolor": "white",
             "minorgridcolor": "white",
             "startlinecolor": "#2a3f5f"
            },
            "type": "carpet"
           }
          ],
          "choropleth": [
           {
            "colorbar": {
             "outlinewidth": 0,
             "ticks": ""
            },
            "type": "choropleth"
           }
          ],
          "contour": [
           {
            "colorbar": {
             "outlinewidth": 0,
             "ticks": ""
            },
            "colorscale": [
             [
              0,
              "#0d0887"
             ],
             [
              0.1111111111111111,
              "#46039f"
             ],
             [
              0.2222222222222222,
              "#7201a8"
             ],
             [
              0.3333333333333333,
              "#9c179e"
             ],
             [
              0.4444444444444444,
              "#bd3786"
             ],
             [
              0.5555555555555556,
              "#d8576b"
             ],
             [
              0.6666666666666666,
              "#ed7953"
             ],
             [
              0.7777777777777778,
              "#fb9f3a"
             ],
             [
              0.8888888888888888,
              "#fdca26"
             ],
             [
              1,
              "#f0f921"
             ]
            ],
            "type": "contour"
           }
          ],
          "contourcarpet": [
           {
            "colorbar": {
             "outlinewidth": 0,
             "ticks": ""
            },
            "type": "contourcarpet"
           }
          ],
          "heatmap": [
           {
            "colorbar": {
             "outlinewidth": 0,
             "ticks": ""
            },
            "colorscale": [
             [
              0,
              "#0d0887"
             ],
             [
              0.1111111111111111,
              "#46039f"
             ],
             [
              0.2222222222222222,
              "#7201a8"
             ],
             [
              0.3333333333333333,
              "#9c179e"
             ],
             [
              0.4444444444444444,
              "#bd3786"
             ],
             [
              0.5555555555555556,
              "#d8576b"
             ],
             [
              0.6666666666666666,
              "#ed7953"
             ],
             [
              0.7777777777777778,
              "#fb9f3a"
             ],
             [
              0.8888888888888888,
              "#fdca26"
             ],
             [
              1,
              "#f0f921"
             ]
            ],
            "type": "heatmap"
           }
          ],
          "heatmapgl": [
           {
            "colorbar": {
             "outlinewidth": 0,
             "ticks": ""
            },
            "colorscale": [
             [
              0,
              "#0d0887"
             ],
             [
              0.1111111111111111,
              "#46039f"
             ],
             [
              0.2222222222222222,
              "#7201a8"
             ],
             [
              0.3333333333333333,
              "#9c179e"
             ],
             [
              0.4444444444444444,
              "#bd3786"
             ],
             [
              0.5555555555555556,
              "#d8576b"
             ],
             [
              0.6666666666666666,
              "#ed7953"
             ],
             [
              0.7777777777777778,
              "#fb9f3a"
             ],
             [
              0.8888888888888888,
              "#fdca26"
             ],
             [
              1,
              "#f0f921"
             ]
            ],
            "type": "heatmapgl"
           }
          ],
          "histogram": [
           {
            "marker": {
             "pattern": {
              "fillmode": "overlay",
              "size": 10,
              "solidity": 0.2
             }
            },
            "type": "histogram"
           }
          ],
          "histogram2d": [
           {
            "colorbar": {
             "outlinewidth": 0,
             "ticks": ""
            },
            "colorscale": [
             [
              0,
              "#0d0887"
             ],
             [
              0.1111111111111111,
              "#46039f"
             ],
             [
              0.2222222222222222,
              "#7201a8"
             ],
             [
              0.3333333333333333,
              "#9c179e"
             ],
             [
              0.4444444444444444,
              "#bd3786"
             ],
             [
              0.5555555555555556,
              "#d8576b"
             ],
             [
              0.6666666666666666,
              "#ed7953"
             ],
             [
              0.7777777777777778,
              "#fb9f3a"
             ],
             [
              0.8888888888888888,
              "#fdca26"
             ],
             [
              1,
              "#f0f921"
             ]
            ],
            "type": "histogram2d"
           }
          ],
          "histogram2dcontour": [
           {
            "colorbar": {
             "outlinewidth": 0,
             "ticks": ""
            },
            "colorscale": [
             [
              0,
              "#0d0887"
             ],
             [
              0.1111111111111111,
              "#46039f"
             ],
             [
              0.2222222222222222,
              "#7201a8"
             ],
             [
              0.3333333333333333,
              "#9c179e"
             ],
             [
              0.4444444444444444,
              "#bd3786"
             ],
             [
              0.5555555555555556,
              "#d8576b"
             ],
             [
              0.6666666666666666,
              "#ed7953"
             ],
             [
              0.7777777777777778,
              "#fb9f3a"
             ],
             [
              0.8888888888888888,
              "#fdca26"
             ],
             [
              1,
              "#f0f921"
             ]
            ],
            "type": "histogram2dcontour"
           }
          ],
          "mesh3d": [
           {
            "colorbar": {
             "outlinewidth": 0,
             "ticks": ""
            },
            "type": "mesh3d"
           }
          ],
          "parcoords": [
           {
            "line": {
             "colorbar": {
              "outlinewidth": 0,
              "ticks": ""
             }
            },
            "type": "parcoords"
           }
          ],
          "pie": [
           {
            "automargin": true,
            "type": "pie"
           }
          ],
          "scatter": [
           {
            "fillpattern": {
             "fillmode": "overlay",
             "size": 10,
             "solidity": 0.2
            },
            "type": "scatter"
           }
          ],
          "scatter3d": [
           {
            "line": {
             "colorbar": {
              "outlinewidth": 0,
              "ticks": ""
             }
            },
            "marker": {
             "colorbar": {
              "outlinewidth": 0,
              "ticks": ""
             }
            },
            "type": "scatter3d"
           }
          ],
          "scattercarpet": [
           {
            "marker": {
             "colorbar": {
              "outlinewidth": 0,
              "ticks": ""
             }
            },
            "type": "scattercarpet"
           }
          ],
          "scattergeo": [
           {
            "marker": {
             "colorbar": {
              "outlinewidth": 0,
              "ticks": ""
             }
            },
            "type": "scattergeo"
           }
          ],
          "scattergl": [
           {
            "marker": {
             "colorbar": {
              "outlinewidth": 0,
              "ticks": ""
             }
            },
            "type": "scattergl"
           }
          ],
          "scattermapbox": [
           {
            "marker": {
             "colorbar": {
              "outlinewidth": 0,
              "ticks": ""
             }
            },
            "type": "scattermapbox"
           }
          ],
          "scatterpolar": [
           {
            "marker": {
             "colorbar": {
              "outlinewidth": 0,
              "ticks": ""
             }
            },
            "type": "scatterpolar"
           }
          ],
          "scatterpolargl": [
           {
            "marker": {
             "colorbar": {
              "outlinewidth": 0,
              "ticks": ""
             }
            },
            "type": "scatterpolargl"
           }
          ],
          "scatterternary": [
           {
            "marker": {
             "colorbar": {
              "outlinewidth": 0,
              "ticks": ""
             }
            },
            "type": "scatterternary"
           }
          ],
          "surface": [
           {
            "colorbar": {
             "outlinewidth": 0,
             "ticks": ""
            },
            "colorscale": [
             [
              0,
              "#0d0887"
             ],
             [
              0.1111111111111111,
              "#46039f"
             ],
             [
              0.2222222222222222,
              "#7201a8"
             ],
             [
              0.3333333333333333,
              "#9c179e"
             ],
             [
              0.4444444444444444,
              "#bd3786"
             ],
             [
              0.5555555555555556,
              "#d8576b"
             ],
             [
              0.6666666666666666,
              "#ed7953"
             ],
             [
              0.7777777777777778,
              "#fb9f3a"
             ],
             [
              0.8888888888888888,
              "#fdca26"
             ],
             [
              1,
              "#f0f921"
             ]
            ],
            "type": "surface"
           }
          ],
          "table": [
           {
            "cells": {
             "fill": {
              "color": "#EBF0F8"
             },
             "line": {
              "color": "white"
             }
            },
            "header": {
             "fill": {
              "color": "#C8D4E3"
             },
             "line": {
              "color": "white"
             }
            },
            "type": "table"
           }
          ]
         },
         "layout": {
          "annotationdefaults": {
           "arrowcolor": "#2a3f5f",
           "arrowhead": 0,
           "arrowwidth": 1
          },
          "autotypenumbers": "strict",
          "coloraxis": {
           "colorbar": {
            "outlinewidth": 0,
            "ticks": ""
           }
          },
          "colorscale": {
           "diverging": [
            [
             0,
             "#8e0152"
            ],
            [
             0.1,
             "#c51b7d"
            ],
            [
             0.2,
             "#de77ae"
            ],
            [
             0.3,
             "#f1b6da"
            ],
            [
             0.4,
             "#fde0ef"
            ],
            [
             0.5,
             "#f7f7f7"
            ],
            [
             0.6,
             "#e6f5d0"
            ],
            [
             0.7,
             "#b8e186"
            ],
            [
             0.8,
             "#7fbc41"
            ],
            [
             0.9,
             "#4d9221"
            ],
            [
             1,
             "#276419"
            ]
           ],
           "sequential": [
            [
             0,
             "#0d0887"
            ],
            [
             0.1111111111111111,
             "#46039f"
            ],
            [
             0.2222222222222222,
             "#7201a8"
            ],
            [
             0.3333333333333333,
             "#9c179e"
            ],
            [
             0.4444444444444444,
             "#bd3786"
            ],
            [
             0.5555555555555556,
             "#d8576b"
            ],
            [
             0.6666666666666666,
             "#ed7953"
            ],
            [
             0.7777777777777778,
             "#fb9f3a"
            ],
            [
             0.8888888888888888,
             "#fdca26"
            ],
            [
             1,
             "#f0f921"
            ]
           ],
           "sequentialminus": [
            [
             0,
             "#0d0887"
            ],
            [
             0.1111111111111111,
             "#46039f"
            ],
            [
             0.2222222222222222,
             "#7201a8"
            ],
            [
             0.3333333333333333,
             "#9c179e"
            ],
            [
             0.4444444444444444,
             "#bd3786"
            ],
            [
             0.5555555555555556,
             "#d8576b"
            ],
            [
             0.6666666666666666,
             "#ed7953"
            ],
            [
             0.7777777777777778,
             "#fb9f3a"
            ],
            [
             0.8888888888888888,
             "#fdca26"
            ],
            [
             1,
             "#f0f921"
            ]
           ]
          },
          "colorway": [
           "#636efa",
           "#EF553B",
           "#00cc96",
           "#ab63fa",
           "#FFA15A",
           "#19d3f3",
           "#FF6692",
           "#B6E880",
           "#FF97FF",
           "#FECB52"
          ],
          "font": {
           "color": "#2a3f5f"
          },
          "geo": {
           "bgcolor": "white",
           "lakecolor": "white",
           "landcolor": "#E5ECF6",
           "showlakes": true,
           "showland": true,
           "subunitcolor": "white"
          },
          "hoverlabel": {
           "align": "left"
          },
          "hovermode": "closest",
          "mapbox": {
           "style": "light"
          },
          "paper_bgcolor": "white",
          "plot_bgcolor": "#E5ECF6",
          "polar": {
           "angularaxis": {
            "gridcolor": "white",
            "linecolor": "white",
            "ticks": ""
           },
           "bgcolor": "#E5ECF6",
           "radialaxis": {
            "gridcolor": "white",
            "linecolor": "white",
            "ticks": ""
           }
          },
          "scene": {
           "xaxis": {
            "backgroundcolor": "#E5ECF6",
            "gridcolor": "white",
            "gridwidth": 2,
            "linecolor": "white",
            "showbackground": true,
            "ticks": "",
            "zerolinecolor": "white"
           },
           "yaxis": {
            "backgroundcolor": "#E5ECF6",
            "gridcolor": "white",
            "gridwidth": 2,
            "linecolor": "white",
            "showbackground": true,
            "ticks": "",
            "zerolinecolor": "white"
           },
           "zaxis": {
            "backgroundcolor": "#E5ECF6",
            "gridcolor": "white",
            "gridwidth": 2,
            "linecolor": "white",
            "showbackground": true,
            "ticks": "",
            "zerolinecolor": "white"
           }
          },
          "shapedefaults": {
           "line": {
            "color": "#2a3f5f"
           }
          },
          "ternary": {
           "aaxis": {
            "gridcolor": "white",
            "linecolor": "white",
            "ticks": ""
           },
           "baxis": {
            "gridcolor": "white",
            "linecolor": "white",
            "ticks": ""
           },
           "bgcolor": "#E5ECF6",
           "caxis": {
            "gridcolor": "white",
            "linecolor": "white",
            "ticks": ""
           }
          },
          "title": {
           "x": 0.05
          },
          "xaxis": {
           "automargin": true,
           "gridcolor": "white",
           "linecolor": "white",
           "ticks": "",
           "title": {
            "standoff": 15
           },
           "zerolinecolor": "white",
           "zerolinewidth": 2
          },
          "yaxis": {
           "automargin": true,
           "gridcolor": "white",
           "linecolor": "white",
           "ticks": "",
           "title": {
            "standoff": 15
           },
           "zerolinecolor": "white",
           "zerolinewidth": 2
          }
         }
        }
       }
      }
     },
     "metadata": {},
     "output_type": "display_data"
    }
   ],
   "source": [
    "import plotly.graph_objects as go\n",
    "\n",
    "fig = go.Figure(data=[\n",
    "    go.Bar(name='default', x=project_names, y=project_total_default),\n",
    "    go.Bar(name='custom', x=project_names, y=project_total_custom)\n",
    "])\n",
    "# Change the bar mode\n",
    "fig.update_layout(barmode='stack')\n",
    "fig.show()"
   ]
  },
  {
   "cell_type": "markdown",
   "metadata": {},
   "source": [
    "How many projects do not use ML algorithms?"
   ]
  },
  {
   "cell_type": "code",
   "execution_count": 78,
   "metadata": {},
   "outputs": [
    {
     "data": {
      "text/html": [
       "<div>\n",
       "<style scoped>\n",
       "    .dataframe tbody tr th:only-of-type {\n",
       "        vertical-align: middle;\n",
       "    }\n",
       "\n",
       "    .dataframe tbody tr th {\n",
       "        vertical-align: top;\n",
       "    }\n",
       "\n",
       "    .dataframe thead th {\n",
       "        text-align: right;\n",
       "    }\n",
       "</style>\n",
       "<table border=\"1\" class=\"dataframe\">\n",
       "  <thead>\n",
       "    <tr style=\"text-align: right;\">\n",
       "      <th></th>\n",
       "      <th>total</th>\n",
       "      <th>total_default</th>\n",
       "      <th>total_custom</th>\n",
       "      <th>percent_default</th>\n",
       "      <th>percent_custom</th>\n",
       "    </tr>\n",
       "  </thead>\n",
       "  <tbody>\n",
       "    <tr>\n",
       "      <th>ade-code</th>\n",
       "      <td>0</td>\n",
       "      <td>0</td>\n",
       "      <td>0</td>\n",
       "      <td>0.0</td>\n",
       "      <td>0.0</td>\n",
       "    </tr>\n",
       "    <tr>\n",
       "      <th>Adversarial-Robust-Supervised-Sparse-Coding</th>\n",
       "      <td>0</td>\n",
       "      <td>0</td>\n",
       "      <td>0</td>\n",
       "      <td>0.0</td>\n",
       "      <td>0.0</td>\n",
       "    </tr>\n",
       "    <tr>\n",
       "      <th>AIED_2021_TRMRC_code</th>\n",
       "      <td>0</td>\n",
       "      <td>0</td>\n",
       "      <td>0</td>\n",
       "      <td>0.0</td>\n",
       "      <td>0.0</td>\n",
       "    </tr>\n",
       "    <tr>\n",
       "      <th>amortized-rsa</th>\n",
       "      <td>0</td>\n",
       "      <td>0</td>\n",
       "      <td>0</td>\n",
       "      <td>0.0</td>\n",
       "      <td>0.0</td>\n",
       "    </tr>\n",
       "    <tr>\n",
       "      <th>ApproPO</th>\n",
       "      <td>0</td>\n",
       "      <td>0</td>\n",
       "      <td>0</td>\n",
       "      <td>0.0</td>\n",
       "      <td>0.0</td>\n",
       "    </tr>\n",
       "    <tr>\n",
       "      <th>...</th>\n",
       "      <td>...</td>\n",
       "      <td>...</td>\n",
       "      <td>...</td>\n",
       "      <td>...</td>\n",
       "      <td>...</td>\n",
       "    </tr>\n",
       "    <tr>\n",
       "      <th>TuiGAN-PyTorch</th>\n",
       "      <td>0</td>\n",
       "      <td>0</td>\n",
       "      <td>0</td>\n",
       "      <td>0.0</td>\n",
       "      <td>0.0</td>\n",
       "    </tr>\n",
       "    <tr>\n",
       "      <th>VGG_Paper</th>\n",
       "      <td>0</td>\n",
       "      <td>0</td>\n",
       "      <td>0</td>\n",
       "      <td>0.0</td>\n",
       "      <td>0.0</td>\n",
       "    </tr>\n",
       "    <tr>\n",
       "      <th>VLight</th>\n",
       "      <td>0</td>\n",
       "      <td>0</td>\n",
       "      <td>0</td>\n",
       "      <td>0.0</td>\n",
       "      <td>0.0</td>\n",
       "    </tr>\n",
       "    <tr>\n",
       "      <th>vln-bert</th>\n",
       "      <td>0</td>\n",
       "      <td>0</td>\n",
       "      <td>0</td>\n",
       "      <td>0.0</td>\n",
       "      <td>0.0</td>\n",
       "    </tr>\n",
       "    <tr>\n",
       "      <th>xlnet</th>\n",
       "      <td>0</td>\n",
       "      <td>0</td>\n",
       "      <td>0</td>\n",
       "      <td>0.0</td>\n",
       "      <td>0.0</td>\n",
       "    </tr>\n",
       "  </tbody>\n",
       "</table>\n",
       "<p>92 rows × 5 columns</p>\n",
       "</div>"
      ],
      "text/plain": [
       "                                             total  total_default  \\\n",
       "ade-code                                         0              0   \n",
       "Adversarial-Robust-Supervised-Sparse-Coding      0              0   \n",
       "AIED_2021_TRMRC_code                             0              0   \n",
       "amortized-rsa                                    0              0   \n",
       "ApproPO                                          0              0   \n",
       "...                                            ...            ...   \n",
       "TuiGAN-PyTorch                                   0              0   \n",
       "VGG_Paper                                        0              0   \n",
       "VLight                                           0              0   \n",
       "vln-bert                                         0              0   \n",
       "xlnet                                            0              0   \n",
       "\n",
       "                                             total_custom  percent_default  \\\n",
       "ade-code                                                0              0.0   \n",
       "Adversarial-Robust-Supervised-Sparse-Coding             0              0.0   \n",
       "AIED_2021_TRMRC_code                                    0              0.0   \n",
       "amortized-rsa                                           0              0.0   \n",
       "ApproPO                                                 0              0.0   \n",
       "...                                                   ...              ...   \n",
       "TuiGAN-PyTorch                                          0              0.0   \n",
       "VGG_Paper                                               0              0.0   \n",
       "VLight                                                  0              0.0   \n",
       "vln-bert                                                0              0.0   \n",
       "xlnet                                                   0              0.0   \n",
       "\n",
       "                                             percent_custom  \n",
       "ade-code                                                0.0  \n",
       "Adversarial-Robust-Supervised-Sparse-Coding             0.0  \n",
       "AIED_2021_TRMRC_code                                    0.0  \n",
       "amortized-rsa                                           0.0  \n",
       "ApproPO                                                 0.0  \n",
       "...                                                     ...  \n",
       "TuiGAN-PyTorch                                          0.0  \n",
       "VGG_Paper                                               0.0  \n",
       "VLight                                                  0.0  \n",
       "vln-bert                                                0.0  \n",
       "xlnet                                                   0.0  \n",
       "\n",
       "[92 rows x 5 columns]"
      ]
     },
     "execution_count": 78,
     "metadata": {},
     "output_type": "execute_result"
    }
   ],
   "source": [
    "df_without_ml_algorithms = result[result['total'] == 0]\n",
    "len(df_without_ml_algorithms)\n",
    "df_without_ml_algorithms\n"
   ]
  },
  {
   "cell_type": "code",
   "execution_count": 79,
   "metadata": {},
   "outputs": [
    {
     "data": {
      "text/html": [
       "<div>\n",
       "<style scoped>\n",
       "    .dataframe tbody tr th:only-of-type {\n",
       "        vertical-align: middle;\n",
       "    }\n",
       "\n",
       "    .dataframe tbody tr th {\n",
       "        vertical-align: top;\n",
       "    }\n",
       "\n",
       "    .dataframe thead th {\n",
       "        text-align: right;\n",
       "    }\n",
       "</style>\n",
       "<table border=\"1\" class=\"dataframe\">\n",
       "  <thead>\n",
       "    <tr style=\"text-align: right;\">\n",
       "      <th></th>\n",
       "      <th>total</th>\n",
       "      <th>total_default</th>\n",
       "      <th>total_custom</th>\n",
       "      <th>percent_default</th>\n",
       "      <th>percent_custom</th>\n",
       "    </tr>\n",
       "  </thead>\n",
       "  <tbody>\n",
       "    <tr>\n",
       "      <th>100DaysofMLCodeChallenge</th>\n",
       "      <td>52</td>\n",
       "      <td>15</td>\n",
       "      <td>37</td>\n",
       "      <td>28.8</td>\n",
       "      <td>71.2</td>\n",
       "    </tr>\n",
       "    <tr>\n",
       "      <th>AI-Feynman</th>\n",
       "      <td>6</td>\n",
       "      <td>0</td>\n",
       "      <td>6</td>\n",
       "      <td>0.0</td>\n",
       "      <td>100.0</td>\n",
       "    </tr>\n",
       "    <tr>\n",
       "      <th>alignarr</th>\n",
       "      <td>6</td>\n",
       "      <td>2</td>\n",
       "      <td>4</td>\n",
       "      <td>33.3</td>\n",
       "      <td>66.7</td>\n",
       "    </tr>\n",
       "    <tr>\n",
       "      <th>AMINN</th>\n",
       "      <td>3</td>\n",
       "      <td>0</td>\n",
       "      <td>3</td>\n",
       "      <td>0.0</td>\n",
       "      <td>100.0</td>\n",
       "    </tr>\n",
       "    <tr>\n",
       "      <th>CE3</th>\n",
       "      <td>2</td>\n",
       "      <td>0</td>\n",
       "      <td>2</td>\n",
       "      <td>0.0</td>\n",
       "      <td>100.0</td>\n",
       "    </tr>\n",
       "    <tr>\n",
       "      <th>CGS</th>\n",
       "      <td>3</td>\n",
       "      <td>0</td>\n",
       "      <td>3</td>\n",
       "      <td>0.0</td>\n",
       "      <td>100.0</td>\n",
       "    </tr>\n",
       "    <tr>\n",
       "      <th>cloud-masking-SOMs</th>\n",
       "      <td>2</td>\n",
       "      <td>2</td>\n",
       "      <td>0</td>\n",
       "      <td>100.0</td>\n",
       "      <td>0.0</td>\n",
       "    </tr>\n",
       "    <tr>\n",
       "      <th>COMS4995_Team_4_Zero_Shot_Classifier</th>\n",
       "      <td>1</td>\n",
       "      <td>1</td>\n",
       "      <td>0</td>\n",
       "      <td>100.0</td>\n",
       "      <td>0.0</td>\n",
       "    </tr>\n",
       "    <tr>\n",
       "      <th>contact-human-dynamics</th>\n",
       "      <td>2</td>\n",
       "      <td>0</td>\n",
       "      <td>2</td>\n",
       "      <td>0.0</td>\n",
       "      <td>100.0</td>\n",
       "    </tr>\n",
       "    <tr>\n",
       "      <th>covid_19_hate_speech</th>\n",
       "      <td>23</td>\n",
       "      <td>4</td>\n",
       "      <td>19</td>\n",
       "      <td>17.4</td>\n",
       "      <td>82.6</td>\n",
       "    </tr>\n",
       "    <tr>\n",
       "      <th>CS498_DL_Project</th>\n",
       "      <td>3</td>\n",
       "      <td>1</td>\n",
       "      <td>2</td>\n",
       "      <td>33.3</td>\n",
       "      <td>66.7</td>\n",
       "    </tr>\n",
       "    <tr>\n",
       "      <th>DeepMapping</th>\n",
       "      <td>4</td>\n",
       "      <td>2</td>\n",
       "      <td>2</td>\n",
       "      <td>50.0</td>\n",
       "      <td>50.0</td>\n",
       "    </tr>\n",
       "    <tr>\n",
       "      <th>disentanglement</th>\n",
       "      <td>4</td>\n",
       "      <td>0</td>\n",
       "      <td>4</td>\n",
       "      <td>0.0</td>\n",
       "      <td>100.0</td>\n",
       "    </tr>\n",
       "    <tr>\n",
       "      <th>DrumGAN</th>\n",
       "      <td>1</td>\n",
       "      <td>0</td>\n",
       "      <td>1</td>\n",
       "      <td>0.0</td>\n",
       "      <td>100.0</td>\n",
       "    </tr>\n",
       "    <tr>\n",
       "      <th>ECBM6040-Project</th>\n",
       "      <td>3</td>\n",
       "      <td>0</td>\n",
       "      <td>3</td>\n",
       "      <td>0.0</td>\n",
       "      <td>100.0</td>\n",
       "    </tr>\n",
       "    <tr>\n",
       "      <th>ExpFinder</th>\n",
       "      <td>3</td>\n",
       "      <td>1</td>\n",
       "      <td>2</td>\n",
       "      <td>33.3</td>\n",
       "      <td>66.7</td>\n",
       "    </tr>\n",
       "    <tr>\n",
       "      <th>facenet</th>\n",
       "      <td>4</td>\n",
       "      <td>2</td>\n",
       "      <td>2</td>\n",
       "      <td>50.0</td>\n",
       "      <td>50.0</td>\n",
       "    </tr>\n",
       "    <tr>\n",
       "      <th>FIAQM</th>\n",
       "      <td>2</td>\n",
       "      <td>2</td>\n",
       "      <td>0</td>\n",
       "      <td>100.0</td>\n",
       "      <td>0.0</td>\n",
       "    </tr>\n",
       "    <tr>\n",
       "      <th>Gamma-Ray-Point-Source-Detector</th>\n",
       "      <td>1</td>\n",
       "      <td>0</td>\n",
       "      <td>1</td>\n",
       "      <td>0.0</td>\n",
       "      <td>100.0</td>\n",
       "    </tr>\n",
       "    <tr>\n",
       "      <th>GIB</th>\n",
       "      <td>2</td>\n",
       "      <td>1</td>\n",
       "      <td>1</td>\n",
       "      <td>50.0</td>\n",
       "      <td>50.0</td>\n",
       "    </tr>\n",
       "    <tr>\n",
       "      <th>gmu-mmimdb</th>\n",
       "      <td>4</td>\n",
       "      <td>0</td>\n",
       "      <td>4</td>\n",
       "      <td>0.0</td>\n",
       "      <td>100.0</td>\n",
       "    </tr>\n",
       "    <tr>\n",
       "      <th>GoodNews</th>\n",
       "      <td>3</td>\n",
       "      <td>0</td>\n",
       "      <td>3</td>\n",
       "      <td>0.0</td>\n",
       "      <td>100.0</td>\n",
       "    </tr>\n",
       "    <tr>\n",
       "      <th>hdmi</th>\n",
       "      <td>1</td>\n",
       "      <td>0</td>\n",
       "      <td>1</td>\n",
       "      <td>0.0</td>\n",
       "      <td>100.0</td>\n",
       "    </tr>\n",
       "    <tr>\n",
       "      <th>HUNet</th>\n",
       "      <td>2</td>\n",
       "      <td>2</td>\n",
       "      <td>0</td>\n",
       "      <td>100.0</td>\n",
       "      <td>0.0</td>\n",
       "    </tr>\n",
       "    <tr>\n",
       "      <th>IBM_seizure_data</th>\n",
       "      <td>4</td>\n",
       "      <td>0</td>\n",
       "      <td>4</td>\n",
       "      <td>0.0</td>\n",
       "      <td>100.0</td>\n",
       "    </tr>\n",
       "    <tr>\n",
       "      <th>label-efficient-brain-tumor-segmentation</th>\n",
       "      <td>3</td>\n",
       "      <td>0</td>\n",
       "      <td>3</td>\n",
       "      <td>0.0</td>\n",
       "      <td>100.0</td>\n",
       "    </tr>\n",
       "    <tr>\n",
       "      <th>learning-to-segment</th>\n",
       "      <td>10</td>\n",
       "      <td>0</td>\n",
       "      <td>10</td>\n",
       "      <td>0.0</td>\n",
       "      <td>100.0</td>\n",
       "    </tr>\n",
       "    <tr>\n",
       "      <th>maua-stylegan2</th>\n",
       "      <td>1</td>\n",
       "      <td>0</td>\n",
       "      <td>1</td>\n",
       "      <td>0.0</td>\n",
       "      <td>100.0</td>\n",
       "    </tr>\n",
       "    <tr>\n",
       "      <th>mlvsgarch</th>\n",
       "      <td>1</td>\n",
       "      <td>1</td>\n",
       "      <td>0</td>\n",
       "      <td>100.0</td>\n",
       "      <td>0.0</td>\n",
       "    </tr>\n",
       "    <tr>\n",
       "      <th>ML_intermetallics</th>\n",
       "      <td>8</td>\n",
       "      <td>2</td>\n",
       "      <td>6</td>\n",
       "      <td>25.0</td>\n",
       "      <td>75.0</td>\n",
       "    </tr>\n",
       "    <tr>\n",
       "      <th>modified_sentence_transfomers</th>\n",
       "      <td>2</td>\n",
       "      <td>0</td>\n",
       "      <td>2</td>\n",
       "      <td>0.0</td>\n",
       "      <td>100.0</td>\n",
       "    </tr>\n",
       "    <tr>\n",
       "      <th>moeadpy</th>\n",
       "      <td>4</td>\n",
       "      <td>0</td>\n",
       "      <td>4</td>\n",
       "      <td>0.0</td>\n",
       "      <td>100.0</td>\n",
       "    </tr>\n",
       "    <tr>\n",
       "      <th>network-deconfounder-wsdm20</th>\n",
       "      <td>2</td>\n",
       "      <td>0</td>\n",
       "      <td>2</td>\n",
       "      <td>0.0</td>\n",
       "      <td>100.0</td>\n",
       "    </tr>\n",
       "    <tr>\n",
       "      <th>NHNN</th>\n",
       "      <td>10</td>\n",
       "      <td>1</td>\n",
       "      <td>9</td>\n",
       "      <td>10.0</td>\n",
       "      <td>90.0</td>\n",
       "    </tr>\n",
       "    <tr>\n",
       "      <th>NIPS2017</th>\n",
       "      <td>2</td>\n",
       "      <td>0</td>\n",
       "      <td>2</td>\n",
       "      <td>0.0</td>\n",
       "      <td>100.0</td>\n",
       "    </tr>\n",
       "    <tr>\n",
       "      <th>parcels</th>\n",
       "      <td>4</td>\n",
       "      <td>0</td>\n",
       "      <td>4</td>\n",
       "      <td>0.0</td>\n",
       "      <td>100.0</td>\n",
       "    </tr>\n",
       "    <tr>\n",
       "      <th>PMN</th>\n",
       "      <td>2</td>\n",
       "      <td>0</td>\n",
       "      <td>2</td>\n",
       "      <td>0.0</td>\n",
       "      <td>100.0</td>\n",
       "    </tr>\n",
       "    <tr>\n",
       "      <th>ReferentialGym</th>\n",
       "      <td>7</td>\n",
       "      <td>1</td>\n",
       "      <td>6</td>\n",
       "      <td>14.3</td>\n",
       "      <td>85.7</td>\n",
       "    </tr>\n",
       "    <tr>\n",
       "      <th>RISClusterPT</th>\n",
       "      <td>20</td>\n",
       "      <td>3</td>\n",
       "      <td>17</td>\n",
       "      <td>15.0</td>\n",
       "      <td>85.0</td>\n",
       "    </tr>\n",
       "    <tr>\n",
       "      <th>s-rafni</th>\n",
       "      <td>2</td>\n",
       "      <td>0</td>\n",
       "      <td>2</td>\n",
       "      <td>0.0</td>\n",
       "      <td>100.0</td>\n",
       "    </tr>\n",
       "    <tr>\n",
       "      <th>seqbed</th>\n",
       "      <td>3</td>\n",
       "      <td>0</td>\n",
       "      <td>3</td>\n",
       "      <td>0.0</td>\n",
       "      <td>100.0</td>\n",
       "    </tr>\n",
       "    <tr>\n",
       "      <th>skeleton-contrast</th>\n",
       "      <td>2</td>\n",
       "      <td>0</td>\n",
       "      <td>2</td>\n",
       "      <td>0.0</td>\n",
       "      <td>100.0</td>\n",
       "    </tr>\n",
       "    <tr>\n",
       "      <th>sketching_optimisation</th>\n",
       "      <td>2</td>\n",
       "      <td>0</td>\n",
       "      <td>2</td>\n",
       "      <td>0.0</td>\n",
       "      <td>100.0</td>\n",
       "    </tr>\n",
       "    <tr>\n",
       "      <th>Testing-1</th>\n",
       "      <td>2</td>\n",
       "      <td>0</td>\n",
       "      <td>2</td>\n",
       "      <td>0.0</td>\n",
       "      <td>100.0</td>\n",
       "    </tr>\n",
       "    <tr>\n",
       "      <th>this-before-that</th>\n",
       "      <td>6</td>\n",
       "      <td>0</td>\n",
       "      <td>6</td>\n",
       "      <td>0.0</td>\n",
       "      <td>100.0</td>\n",
       "    </tr>\n",
       "    <tr>\n",
       "      <th>TOCCA</th>\n",
       "      <td>9</td>\n",
       "      <td>1</td>\n",
       "      <td>8</td>\n",
       "      <td>11.1</td>\n",
       "      <td>88.9</td>\n",
       "    </tr>\n",
       "    <tr>\n",
       "      <th>TrajectorySet</th>\n",
       "      <td>2</td>\n",
       "      <td>0</td>\n",
       "      <td>2</td>\n",
       "      <td>0.0</td>\n",
       "      <td>100.0</td>\n",
       "    </tr>\n",
       "    <tr>\n",
       "      <th>up</th>\n",
       "      <td>1</td>\n",
       "      <td>0</td>\n",
       "      <td>1</td>\n",
       "      <td>0.0</td>\n",
       "      <td>100.0</td>\n",
       "    </tr>\n",
       "    <tr>\n",
       "      <th>x-deeplearning</th>\n",
       "      <td>6</td>\n",
       "      <td>0</td>\n",
       "      <td>6</td>\n",
       "      <td>0.0</td>\n",
       "      <td>100.0</td>\n",
       "    </tr>\n",
       "  </tbody>\n",
       "</table>\n",
       "</div>"
      ],
      "text/plain": [
       "                                          total  total_default  total_custom  \\\n",
       "100DaysofMLCodeChallenge                     52             15            37   \n",
       "AI-Feynman                                    6              0             6   \n",
       "alignarr                                      6              2             4   \n",
       "AMINN                                         3              0             3   \n",
       "CE3                                           2              0             2   \n",
       "CGS                                           3              0             3   \n",
       "cloud-masking-SOMs                            2              2             0   \n",
       "COMS4995_Team_4_Zero_Shot_Classifier          1              1             0   \n",
       "contact-human-dynamics                        2              0             2   \n",
       "covid_19_hate_speech                         23              4            19   \n",
       "CS498_DL_Project                              3              1             2   \n",
       "DeepMapping                                   4              2             2   \n",
       "disentanglement                               4              0             4   \n",
       "DrumGAN                                       1              0             1   \n",
       "ECBM6040-Project                              3              0             3   \n",
       "ExpFinder                                     3              1             2   \n",
       "facenet                                       4              2             2   \n",
       "FIAQM                                         2              2             0   \n",
       "Gamma-Ray-Point-Source-Detector               1              0             1   \n",
       "GIB                                           2              1             1   \n",
       "gmu-mmimdb                                    4              0             4   \n",
       "GoodNews                                      3              0             3   \n",
       "hdmi                                          1              0             1   \n",
       "HUNet                                         2              2             0   \n",
       "IBM_seizure_data                              4              0             4   \n",
       "label-efficient-brain-tumor-segmentation      3              0             3   \n",
       "learning-to-segment                          10              0            10   \n",
       "maua-stylegan2                                1              0             1   \n",
       "mlvsgarch                                     1              1             0   \n",
       "ML_intermetallics                             8              2             6   \n",
       "modified_sentence_transfomers                 2              0             2   \n",
       "moeadpy                                       4              0             4   \n",
       "network-deconfounder-wsdm20                   2              0             2   \n",
       "NHNN                                         10              1             9   \n",
       "NIPS2017                                      2              0             2   \n",
       "parcels                                       4              0             4   \n",
       "PMN                                           2              0             2   \n",
       "ReferentialGym                                7              1             6   \n",
       "RISClusterPT                                 20              3            17   \n",
       "s-rafni                                       2              0             2   \n",
       "seqbed                                        3              0             3   \n",
       "skeleton-contrast                             2              0             2   \n",
       "sketching_optimisation                        2              0             2   \n",
       "Testing-1                                     2              0             2   \n",
       "this-before-that                              6              0             6   \n",
       "TOCCA                                         9              1             8   \n",
       "TrajectorySet                                 2              0             2   \n",
       "up                                            1              0             1   \n",
       "x-deeplearning                                6              0             6   \n",
       "\n",
       "                                          percent_default  percent_custom  \n",
       "100DaysofMLCodeChallenge                             28.8            71.2  \n",
       "AI-Feynman                                            0.0           100.0  \n",
       "alignarr                                             33.3            66.7  \n",
       "AMINN                                                 0.0           100.0  \n",
       "CE3                                                   0.0           100.0  \n",
       "CGS                                                   0.0           100.0  \n",
       "cloud-masking-SOMs                                  100.0             0.0  \n",
       "COMS4995_Team_4_Zero_Shot_Classifier                100.0             0.0  \n",
       "contact-human-dynamics                                0.0           100.0  \n",
       "covid_19_hate_speech                                 17.4            82.6  \n",
       "CS498_DL_Project                                     33.3            66.7  \n",
       "DeepMapping                                          50.0            50.0  \n",
       "disentanglement                                       0.0           100.0  \n",
       "DrumGAN                                               0.0           100.0  \n",
       "ECBM6040-Project                                      0.0           100.0  \n",
       "ExpFinder                                            33.3            66.7  \n",
       "facenet                                              50.0            50.0  \n",
       "FIAQM                                               100.0             0.0  \n",
       "Gamma-Ray-Point-Source-Detector                       0.0           100.0  \n",
       "GIB                                                  50.0            50.0  \n",
       "gmu-mmimdb                                            0.0           100.0  \n",
       "GoodNews                                              0.0           100.0  \n",
       "hdmi                                                  0.0           100.0  \n",
       "HUNet                                               100.0             0.0  \n",
       "IBM_seizure_data                                      0.0           100.0  \n",
       "label-efficient-brain-tumor-segmentation              0.0           100.0  \n",
       "learning-to-segment                                   0.0           100.0  \n",
       "maua-stylegan2                                        0.0           100.0  \n",
       "mlvsgarch                                           100.0             0.0  \n",
       "ML_intermetallics                                    25.0            75.0  \n",
       "modified_sentence_transfomers                         0.0           100.0  \n",
       "moeadpy                                               0.0           100.0  \n",
       "network-deconfounder-wsdm20                           0.0           100.0  \n",
       "NHNN                                                 10.0            90.0  \n",
       "NIPS2017                                              0.0           100.0  \n",
       "parcels                                               0.0           100.0  \n",
       "PMN                                                   0.0           100.0  \n",
       "ReferentialGym                                       14.3            85.7  \n",
       "RISClusterPT                                         15.0            85.0  \n",
       "s-rafni                                               0.0           100.0  \n",
       "seqbed                                                0.0           100.0  \n",
       "skeleton-contrast                                     0.0           100.0  \n",
       "sketching_optimisation                                0.0           100.0  \n",
       "Testing-1                                             0.0           100.0  \n",
       "this-before-that                                      0.0           100.0  \n",
       "TOCCA                                                11.1            88.9  \n",
       "TrajectorySet                                         0.0           100.0  \n",
       "up                                                    0.0           100.0  \n",
       "x-deeplearning                                        0.0           100.0  "
      ]
     },
     "execution_count": 79,
     "metadata": {},
     "output_type": "execute_result"
    }
   ],
   "source": [
    "df_with_ml_algorithms= result[result['total'] > 0]\n",
    "len(df_with_ml_algorithms)\n",
    "df_with_ml_algorithms"
   ]
  },
  {
   "cell_type": "code",
   "execution_count": 84,
   "metadata": {},
   "outputs": [
    {
     "name": "stdout",
     "output_type": "stream",
     "text": [
      "141\n",
      "Total:  252\n",
      "Default:  44\n"
     ]
    }
   ],
   "source": [
    "print(len(result))\n",
    "print(\"Total: \", result[\"total\"].sum())\n",
    "print(\"Default: \", result[\"total_default\"].sum())"
   ]
  }
 ],
 "metadata": {
  "interpreter": {
   "hash": "9b15ceb2e1c319abb5a3a14f1ef1bcbce2ee8dd1c77d2c4e6466e97ae1997d13"
  },
  "kernelspec": {
   "display_name": "Python 3.9.0 64-bit",
   "language": "python",
   "name": "python3"
  },
  "language_info": {
   "codemirror_mode": {
    "name": "ipython",
    "version": 3
   },
   "file_extension": ".py",
   "mimetype": "text/x-python",
   "name": "python",
   "nbconvert_exporter": "python",
   "pygments_lexer": "ipython3",
   "version": "3.9.0"
  },
  "orig_nbformat": 4
 },
 "nbformat": 4,
 "nbformat_minor": 2
}
