{
 "cells": [
  {
   "cell_type": "code",
   "execution_count": 14,
   "metadata": {},
   "outputs": [],
   "source": [
    "import json\n",
    "import pandas as pd\n",
    "import glob\n",
    "from collections import Counter"
   ]
  },
  {
   "cell_type": "code",
   "execution_count": 15,
   "metadata": {},
   "outputs": [
    {
     "name": "stdout",
     "output_type": "stream",
     "text": [
      "Number repos:  982\n",
      "Number files:  978\n"
     ]
    }
   ],
   "source": [
    "with open(\"repos.json\", \"r\", encoding=\"utf-8\") as src:\n",
    "    repos = json.load(src)\n",
    "    print(\"Number repos: \", len(repos))\n",
    "\n",
    "repo_files = set()\n",
    "\n",
    "for x in glob.glob(\"../data/statistics/*\"):\n",
    "    file_name = x.split(\"\\\\\")[-1]\n",
    "    if file_name in repos:\n",
    "        repo_files.add(x)\n",
    "\n",
    "print(\"Number files: \", len(repo_files))"
   ]
  },
  {
   "cell_type": "code",
   "execution_count": 16,
   "metadata": {},
   "outputs": [],
   "source": [
    "def df_to_latex(df: pd.DataFrame) -> None:\n",
    "    print(df.to_latex(index=False))\n",
    "\n",
    "def get_module(name, data):\n",
    "    module = next(filter(lambda x: name == x[\"name\"], data))\n",
    "    return module"
   ]
  },
  {
   "cell_type": "code",
   "execution_count": 26,
   "metadata": {},
   "outputs": [
    {
     "name": "stdout",
     "output_type": "stream",
     "text": [
      "('Variable', 'initial_value', 'step_ratio', 'custom')\n",
      "('Variable', 'name', 'ratio', 'custom')\n",
      "('Variable', 'trainable', 'False', 'custom')\n",
      "('Variable', 'initial_value', 'False', 'custom')\n",
      "('Variable', 'name', 'is_combined', 'custom')\n",
      "('Variable', 'trainable', 'False', 'custom')\n",
      "('Variable', 'initial_value', 'step_ratio', 'custom')\n",
      "('Variable', 'name', 'ratio', 'custom')\n",
      "('Variable', 'trainable', 'False', 'custom')\n",
      "('Variable', 'initial_value', 'False', 'custom')\n",
      "('Variable', 'name', 'is_combined', 'custom')\n",
      "('Variable', 'trainable', 'False', 'custom')\n",
      "('TFRecordDataset', 'filenames', 'record_paths', 'custom')\n",
      "('Categorical', 'probs', 'tf.range(1, max_idx + 2) / tf.reduce_sum(tf.range(1, max_idx + 2))', 'custom')\n",
      "('Categorical', 'name', 'ratio_sample_weight', 'custom')\n",
      "('FixedLenFeature', 'shape', '[size, 3]', 'custom')\n",
      "('FixedLenFeature', 'dtype', 'tf.float32', 'custom')\n",
      "('Saver', 'max_to_keep', 'None', 'custom')\n",
      "('AdamOptimizer', 'learning_rate', 'self.learning_rate', 'custom')\n",
      "('AdamOptimizer', 'beta1', '0.9', 'default')\n",
      "('Session', 'config', 'config', 'custom')\n",
      "('Session', 'config', 'config', 'custom')\n",
      "('Session', 'config', 'config', 'custom')\n",
      "('Variable', 'initial_value', 'step_ratio', 'custom')\n",
      "('Variable', 'name', 'ratio', 'custom')\n",
      "('Variable', 'trainable', 'False', 'custom')\n",
      "('Variable', 'initial_value', 'num_in_point', 'custom')\n",
      "('Variable', 'name', 'num_in_point', 'custom')\n",
      "('Variable', 'trainable', 'False', 'custom')\n",
      "('RegisterGradient', 'op_type', 'NnDistance', 'custom')\n",
      "('Session', 'target', '', 'default')\n",
      "('Variable', 'initial_value', 'xyz1', 'custom')\n",
      "('GradientDescentOptimizer', 'learning_rate', '0.05', 'custom')\n",
      "('RegisterGradient', 'op_type', 'GroupPoint', 'custom')\n",
      "('Session', 'target', '', 'default')\n",
      "('RegisterGradient', 'op_type', 'GatherPoint', 'custom')\n",
      "('Session', 'target', '', 'default')\n",
      "('NewCheckpointReader', 'filepattern', 'save_file', 'custom')\n",
      "('Saver', 'var_list', 'restore_vars', 'custom')\n",
      "('Feature', 'float_list', 'tf.train.FloatList(value=value)', 'custom')\n",
      "('Feature', 'bytes_list', 'tf.train.BytesList(value=value)', 'custom')\n",
      "('FloatList', 'value', 'value', 'custom')\n",
      "('BytesList', 'value', 'value', 'custom')\n",
      "('TFRecordWriter', 'path', \"os.path.join(out_dir, '{}_p{}_shard{}.tfrecord'.format('_'.join(datasets), num_point, i))\", 'custom')\n",
      "('Example', 'features', 'tf.train.Features(feature=features)', 'custom')\n",
      "('Features', 'feature', 'features', 'custom')\n"
     ]
    }
   ],
   "source": [
    "def get_parameters(library_name: str, library_dir: str, files: set) -> pd.DataFrame:\n",
    "    \"\"\"\n",
    "    Name | Count | Set | Default | Customized\n",
    "    -----------------------------------------\n",
    "    x    |     1 |   1 |       1 |         0 \n",
    "    \"\"\"\n",
    "    with open(library_dir, \"r\", encoding=\"utf-8\") as library_file:\n",
    "        library_data = json.load(library_file)\n",
    "\n",
    "    parameters = []\n",
    "\n",
    "    with open(\"../data/statistics/3PU_params.json\", \"r\", encoding=\"utf-8\") as project_file:\n",
    "        project_data = json.load(project_file)\n",
    "        for file in project_data.keys():\n",
    "            file_data = project_data[file]\n",
    "            for library in file_data.keys():\n",
    "                if library == library_name:\n",
    "                    module_data = file_data[library]\n",
    "                    for key, data in module_data.items():\n",
    "                        if key[0].isupper():\n",
    "                            class_name_parts = key.split(\"_\")\n",
    "                            if len(class_name_parts) > 2:\n",
    "                                class_name = \"_\".join(class_name_parts[:-1])\n",
    "                            else:\n",
    "                                class_name = class_name_parts[0]\n",
    "\n",
    "                            library_module_data = get_module(class_name, library_data)\n",
    "                            library_module_params = library_module_data[\"params\"]\n",
    "\n",
    "                            for name, value in data.items():\n",
    "                                if name in (\"variable\", \"params\"):\n",
    "                                    continue\n",
    "                                else:\n",
    "                                    if name in library_module_params.keys():\n",
    "                                        if str(library_module_params[name]).replace(\"'\", \"\") == value[\"value\"]:\n",
    "                                            param_data = (class_name, name, value[\"value\"], \"default\")\n",
    "                                        else:\n",
    "                                            param_data = (class_name, name, value[\"value\"], \"custom\")\n",
    "                                    else:\n",
    "                                        param_data = (class_name, name, value[\"value\"], \"custom\")\n",
    "                                    parameters.append(param_data)\n",
    "\n",
    "    for x in parameters:\n",
    "        print(x)\n",
    "\n",
    "get_parameters(\"tensorflow\", \"../modules/tensorflow_default_values.json\" , repo_files)\n"
   ]
  },
  {
   "cell_type": "code",
   "execution_count": null,
   "metadata": {},
   "outputs": [],
   "source": []
  }
 ],
 "metadata": {
  "kernelspec": {
   "display_name": "Python 3.10.7 64-bit",
   "language": "python",
   "name": "python3"
  },
  "language_info": {
   "codemirror_mode": {
    "name": "ipython",
    "version": 3
   },
   "file_extension": ".py",
   "mimetype": "text/x-python",
   "name": "python",
   "nbconvert_exporter": "python",
   "pygments_lexer": "ipython3",
   "version": "3.10.7"
  },
  "orig_nbformat": 4,
  "vscode": {
   "interpreter": {
    "hash": "369f2c481f4da34e4445cda3fffd2e751bd1c4d706f27375911949ba6bb62e1c"
   }
  }
 },
 "nbformat": 4,
 "nbformat_minor": 2
}
