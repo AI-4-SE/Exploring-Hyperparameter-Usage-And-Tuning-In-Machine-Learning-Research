{
 "cells": [
  {
   "cell_type": "code",
   "execution_count": 32,
   "metadata": {},
   "outputs": [],
   "source": [
    "import json\n",
    "import pandas as pd\n",
    "import glob"
   ]
  },
  {
   "cell_type": "code",
   "execution_count": 33,
   "metadata": {},
   "outputs": [
    {
     "name": "stdout",
     "output_type": "stream",
     "text": [
      "982\n",
      "982\n"
     ]
    }
   ],
   "source": [
    "with open(\"repos.json\", \"r\", encoding=\"utf-8\") as src:\n",
    "    repos = json.load(src)\n",
    "    print(len(repos))\n",
    "\n",
    "\n",
    "files = set()\n",
    "\n",
    "for x in glob.glob(\"../data/statistics/*\"):\n",
    "    file_name = x.split(\"\\\\\")[-1]\n",
    "    if file_name in repos:\n",
    "        files.add(x)\n",
    "\n",
    "print(len(files))\n",
    "\n",
    "# TODO: continue analysis here\n"
   ]
  }
 ],
 "metadata": {
  "kernelspec": {
   "display_name": "Python 3.10.7 64-bit",
   "language": "python",
   "name": "python3"
  },
  "language_info": {
   "codemirror_mode": {
    "name": "ipython",
    "version": 3
   },
   "file_extension": ".py",
   "mimetype": "text/x-python",
   "name": "python",
   "nbconvert_exporter": "python",
   "pygments_lexer": "ipython3",
   "version": "3.10.7"
  },
  "orig_nbformat": 4,
  "vscode": {
   "interpreter": {
    "hash": "369f2c481f4da34e4445cda3fffd2e751bd1c4d706f27375911949ba6bb62e1c"
   }
  }
 },
 "nbformat": 4,
 "nbformat_minor": 2
}
