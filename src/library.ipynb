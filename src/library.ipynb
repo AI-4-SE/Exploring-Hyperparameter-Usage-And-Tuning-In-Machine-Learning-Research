{
 "cells": [
  {
   "cell_type": "code",
   "execution_count": 6,
   "metadata": {},
   "outputs": [],
   "source": [
    "import pandas as pd\n",
    "import json\n",
    "import glob\n",
    "from collections import Counter"
   ]
  },
  {
   "cell_type": "code",
   "execution_count": 7,
   "metadata": {},
   "outputs": [],
   "source": [
    "def get_library_classes(library_name: str, library_data_dir, project_dir: str) -> pd.DataFrame:\n",
    "    with open(library_data_dir, \"r\", encoding=\"utf-8\") as sklearn_file:\n",
    "        library_data = json.load(sklearn_file)\n",
    "\n",
    "    classes = []\n",
    "\n",
    "    for project in glob.glob(project_dir):\n",
    "        with open(project, \"r\", encoding=\"utf-8\") as project_file:\n",
    "            project_data = json.load(project_file)\n",
    "\n",
    "            for file in project_data.keys():\n",
    "                file_data = project_data[file]\n",
    "                for library in file_data.keys():\n",
    "                    if library == library_name:\n",
    "                        module_data = file_data[library]\n",
    "                        for key, value in module_data.items():\n",
    "                            if key[0].isupper():\n",
    "                                class_name = key.split(\"_\")[0]\n",
    "                                if \"base_class_0\" in value:\n",
    "                                    continue\n",
    "                                classes.append(class_name)\n",
    "\n",
    "    class_data = Counter(classes)\n",
    "    df_classes = pd.DataFrame.from_dict(class_data, orient=\"index\").reset_index()\n",
    "    df_classes = df_classes.rename(columns={'index':'Class', 0:'Count'})\n",
    "    df_classes = df_classes.sort_values(by=['Count'], ascending=False)\n",
    "\n",
    "    return df_classes\n"
   ]
  },
  {
   "cell_type": "code",
   "execution_count": 8,
   "metadata": {},
   "outputs": [],
   "source": [
    "def get_library_methods(library_name: str, data_dir: str) -> pd.DataFrame:\n",
    "    pass"
   ]
  },
  {
   "cell_type": "code",
   "execution_count": 9,
   "metadata": {},
   "outputs": [],
   "source": [
    "def df_to_latex(df: pd.DataFrame, row_number) -> None:\n",
    "    df = df[:row_number]\n",
    "    print(df.to_latex(index=False))"
   ]
  },
  {
   "cell_type": "code",
   "execution_count": 10,
   "metadata": {},
   "outputs": [
    {
     "name": "stdout",
     "output_type": "stream",
     "text": [
      "\\begin{tabular}{lr}\n",
      "\\toprule\n",
      "                 Class &  Count \\\\\n",
      "\\midrule\n",
      "        StandardScaler &     44 \\\\\n",
      "    LogisticRegression &     40 \\\\\n",
      "                KMeans &     30 \\\\\n",
      "          MinMaxScaler &     25 \\\\\n",
      "              Pipeline &     21 \\\\\n",
      "          LabelEncoder &     17 \\\\\n",
      "      LinearRegression &     13 \\\\\n",
      "                   PCA &     12 \\\\\n",
      "         OneHotEncoder &     11 \\\\\n",
      "          GridSearchCV &     10 \\\\\n",
      "                 KFold &     10 \\\\\n",
      "   MultiLabelBinarizer &     10 \\\\\n",
      "       CountVectorizer &      9 \\\\\n",
      "                  TSNE &      9 \\\\\n",
      "                   RFE &      8 \\\\\n",
      "      NearestNeighbors &      7 \\\\\n",
      "                   SVC &      7 \\\\\n",
      "       TfidfVectorizer &      6 \\\\\n",
      "RandomForestClassifier &      6 \\\\\n",
      "       StratifiedKFold &      5 \\\\\n",
      "         SimpleImputer &      5 \\\\\n",
      "   FunctionTransformer &      5 \\\\\n",
      "       GaussianMixture &      5 \\\\\n",
      " DecisionTreeRegressor &      5 \\\\\n",
      "DecisionTreeClassifier &      4 \\\\\n",
      "          MaxAbsScaler &      4 \\\\\n",
      "            GroupKFold &      4 \\\\\n",
      "  KNeighborsClassifier &      4 \\\\\n",
      "    PolynomialFeatures &      4 \\\\\n",
      "       RANSACRegressor &      4 \\\\\n",
      "\\bottomrule\n",
      "\\end{tabular}\n",
      "\n"
     ]
    }
   ],
   "source": [
    "df = get_library_classes(\"tensorflow\", \"modules/tensorflow_default_values.json\", \"statistics/*\")\n",
    "df_to_latex(df=df, row_number=30)"
   ]
  }
 ],
 "metadata": {
  "kernelspec": {
   "display_name": "Python 3.9.0 64-bit",
   "language": "python",
   "name": "python3"
  },
  "language_info": {
   "codemirror_mode": {
    "name": "ipython",
    "version": 3
   },
   "file_extension": ".py",
   "mimetype": "text/x-python",
   "name": "python",
   "nbconvert_exporter": "python",
   "pygments_lexer": "ipython3",
   "version": "3.9.0"
  },
  "orig_nbformat": 4,
  "vscode": {
   "interpreter": {
    "hash": "baf69434822515d6eb5706280ed4fdf1abcb6899576a97bde367cb051faeb565"
   }
  }
 },
 "nbformat": 4,
 "nbformat_minor": 2
}
