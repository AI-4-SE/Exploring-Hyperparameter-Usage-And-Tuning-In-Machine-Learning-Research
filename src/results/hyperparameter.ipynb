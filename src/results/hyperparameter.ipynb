{
 "cells": [
  {
   "cell_type": "code",
   "execution_count": 174,
   "metadata": {},
   "outputs": [
    {
     "name": "stdout",
     "output_type": "stream",
     "text": [
      "Number repos:  514\n"
     ]
    }
   ],
   "source": [
    "import json\n",
    "import pandas as pd\n",
    "import glob\n",
    "from collections import Counter\n",
    "from typing import List, Dict\n",
    "import warnings\n",
    "\n",
    "warnings.simplefilter(action='ignore', category=FutureWarning)\n",
    "\n",
    "with open(\"../data/repos_hyperparameter_tuning.json\", \"r\", encoding=\"utf-8\") as src:\n",
    "    repos = json.load(src)\n",
    "    print(\"Number repos: \", len(repos))\n"
   ]
  },
  {
   "cell_type": "code",
   "execution_count": 175,
   "metadata": {},
   "outputs": [],
   "source": [
    "def df_to_latex(df: pd.DataFrame) -> None:\n",
    "    print(df.to_latex(index=False))\n",
    "\n",
    "def get_module(name, data):\n",
    "    try:\n",
    "        return next(filter(lambda x: name == x[\"name\"], data))\n",
    "    except StopIteration:\n",
    "        return None"
   ]
  },
  {
   "cell_type": "code",
   "execution_count": 176,
   "metadata": {},
   "outputs": [],
   "source": [
    "def get_classes(library_name: str, library_dir: str, files: List) -> Dict:\n",
    "\n",
    "    with open(library_dir, \"r\", encoding=\"utf-8\") as library_file:\n",
    "        library_data = json.load(library_file)\n",
    "        class_names = [x[\"name\"] for x in library_data]\n",
    "\n",
    "    # Get Most used Class\n",
    "    classes = []\n",
    "\n",
    "    for project in files:\n",
    "        with open(\"../data/statistics/\" + project, \"r\", encoding=\"utf-8\") as project_file:\n",
    "            project_data = json.load(project_file)\n",
    "\n",
    "            for file in project_data.keys():\n",
    "                file_data = project_data[file]\n",
    "                for library in file_data.keys():\n",
    "                    if library == library_name:\n",
    "                        module_data = file_data[library]\n",
    "                        for key, _ in module_data.items():\n",
    "                            if key[0].isupper():\n",
    "                                class_name_parts = key.split(\"_\")\n",
    "                                if len(class_name_parts) > 2:\n",
    "                                    class_name = \"_\".join(class_name_parts[:-1])\n",
    "                                else:\n",
    "                                    class_name = class_name_parts[0]\n",
    "\n",
    "                                if class_name in class_names:\n",
    "                                    classes.append(class_name)\n",
    "\n",
    "    return Counter(classes).most_common()"
   ]
  },
  {
   "cell_type": "code",
   "execution_count": 177,
   "metadata": {},
   "outputs": [],
   "source": [
    "def get_params(library_name, files, classes) -> List:\n",
    "\n",
    "    param_data = []\n",
    "    \n",
    "    for class_name in classes:\n",
    "        params_set = []\n",
    "\n",
    "        for project in list(files):\n",
    "            with open(\"../data/statistics/\" + project, \"r\", encoding=\"utf-8\") as project_file:\n",
    "                project_data = json.load(project_file)\n",
    "\n",
    "                for file in project_data.keys():\n",
    "                    file_data = project_data[file]\n",
    "                    for library in file_data.keys():\n",
    "                        if library == library_name:\n",
    "                            module_data = file_data[library]\n",
    "                            for key, data in module_data.items():\n",
    "                                if key[0].isupper():\n",
    "                                    module_name_parts = key.split(\"_\")\n",
    "                                    if len(module_name_parts) > 2:\n",
    "                                        module_name = \"_\".join(module_name_parts[:-1])\n",
    "                                    else:\n",
    "                                        module_name = module_name_parts[0]\n",
    "\n",
    "                                    if class_name == module_name:\n",
    "                                        #if module_name == \"Adam\":\n",
    "                                        #    print(\"Project: \", project)\n",
    "                                        #    print(\"Library: \", library_name)\n",
    "                                        #    print(\"Data\", data.items())\n",
    "\n",
    "                                        for name, _ in data.items():\n",
    "                                            if name in (\"variable\", \"params\"):\n",
    "                                                continue\n",
    "                                            else:\n",
    "                                                if name == \"lr\" and library_name == \"tensorflow\":\n",
    "                                                    params_set.append(\"learning_rate\")\n",
    "                                                else:\n",
    "                                                    params_set.append(name)\n",
    "                                                        \n",
    "                                            \n",
    "        \n",
    "        param_counter = Counter(params_set).most_common(3)\n",
    "        param_data.append(param_counter)\n",
    "        \n",
    "    return param_data"
   ]
  },
  {
   "cell_type": "code",
   "execution_count": 178,
   "metadata": {},
   "outputs": [],
   "source": [
    "def create_dataframe(top_classes, top_classes_count, top_params, top_params_count):\n",
    "\n",
    "    df = pd.DataFrame()\n",
    "    df[\"Algorithm\"] = top_classes\n",
    "    df[\"Algorithm Count\"] = top_classes_count\n",
    "    df[\"Top Hyperparameters\"] = top_params\n",
    "    df[\"Top Hyperparameter Count\"] = top_params_count\n",
    "\n",
    "    return df\n"
   ]
  },
  {
   "cell_type": "code",
   "execution_count": 179,
   "metadata": {},
   "outputs": [
    {
     "name": "stdout",
     "output_type": "stream",
     "text": [
      "\\begin{tabular}{lrll}\n",
      "\\toprule\n",
      "                 Algorithm &  Algorithm Count &                         Top Hyperparameters & Top Hyperparameter Count \\\\\n",
      "\\midrule\n",
      "        LogisticRegression &               33 &                   [C, solver, random\\_state] &             [15, 13, 12] \\\\\n",
      "                       SVC &               28 &                          [gamma, kernel, C] &                [9, 6, 4] \\\\\n",
      "                    KMeans &               22 &            [n\\_clusters, random\\_state, init] &              [22, 13, 7] \\\\\n",
      "GradientBoostingClassifier &               20 & [n\\_estimators, learning\\_rate, random\\_state] &             [19, 17, 15] \\\\\n",
      "                 LinearSVC &               17 &                     [C, dual, class\\_weight] &               [12, 8, 7] \\\\\n",
      "                      Adam &               91 &         [learning\\_rate, epsilon, clipvalue] &              [81, 12, 8] \\\\\n",
      "                       SGD &                8 &                   [learning\\_rate, momentum] &                   [8, 4] \\\\\n",
      "                    Adamax &                4 &                             [learning\\_rate] &                      [4] \\\\\n",
      "                   RMSprop &                3 &              [learning\\_rate, rho, momentum] &                [2, 2, 2] \\\\\n",
      "                   Adagrad &                3 &  [learning\\_rate, initial\\_accumulator\\_value] &                   [3, 2] \\\\\n",
      "                      Adam &              646 &                   [lr, betas, weight\\_decay] &          [601, 188, 181] \\\\\n",
      "                       SGD &              233 &                [lr, momentum, weight\\_decay] &          [219, 151, 101] \\\\\n",
      "                   RMSprop &               47 &                       [lr, momentum, alpha] &             [44, 25, 24] \\\\\n",
      "                     AdamW &               18 &                     [lr, weight\\_decay, eps] &             [18, 13, 11] \\\\\n",
      "                   Adagrad &               13 &                [lr, weight\\_decay, lr\\_decay] &               [11, 7, 3] \\\\\n",
      "\\bottomrule\n",
      "\\end{tabular}\n",
      "\n"
     ]
    }
   ],
   "source": [
    "def get_all_data(library_name: str, library_data: str, files: List[str]) -> pd.DataFrame:\n",
    "    # get all estimator classes\n",
    "    classes = get_classes(library_name, library_data, repos)\n",
    "    # get top ten estimator classes\n",
    "    top_classes = [x[0] for x in classes][:5]\n",
    "    # get count for the top ten estimator classes\n",
    "    top_classes_count = [x[1] for x in classes][:5]\n",
    "\n",
    "    # get top three hyperparameter for each class\n",
    "    params = get_params(library_name, repos, top_classes)\n",
    "\n",
    "    top_params = []  \n",
    "    top_params_count = []  \n",
    "    for item in params:\n",
    "        _params = [x[0] for x in item]\n",
    "        _count = [x[1] for x in item]\n",
    "        top_params.append(_params)\n",
    "        top_params_count.append(_count)\n",
    "\n",
    "    return create_dataframe(top_classes, top_classes_count, top_params, top_params_count)\n",
    "\n",
    "df_sklearn = get_all_data(\"sklearn\", \"../modules/sklearn_estimators.json\", repos)\n",
    "df_tensorflow = get_all_data(\"tensorflow\", \"../modules/tensorflow_optimizer.json\", repos)\n",
    "df_pytorch = get_all_data(\"torch\", \"../modules/torch_optimizer.json\", repos)\n",
    "df_all = pd.concat([df_sklearn, df_tensorflow, df_pytorch])\n",
    "\n",
    "\n",
    "print(df_all.to_latex(index=False))"
   ]
  },
  {
   "cell_type": "code",
   "execution_count": 180,
   "metadata": {},
   "outputs": [],
   "source": [
    "def get_method_data(df: pd.DataFrame):\n",
    "\n",
    "    method_data = []\n",
    "\n",
    "    for _, row in df.iterrows():\n",
    "        params = []\n",
    "        name = row[0]\n",
    "        count = row[1]\n",
    "        for (x, y) in zip(row[2], row[3]):\n",
    "            params.append({\"name\": x, \"count\": y})\n",
    "\n",
    "        \n",
    "        method_data.append({\"name\": name, \"count\": count, \"params\": params})\n",
    "    \n",
    "    return method_data\n",
    "\n",
    "\n",
    "sklearn_method_data = get_method_data(df_sklearn)\n",
    "\n",
    "\n",
    "\n"
   ]
  }
 ],
 "metadata": {
  "kernelspec": {
   "display_name": "Python 3",
   "language": "python",
   "name": "python3"
  },
  "language_info": {
   "codemirror_mode": {
    "name": "ipython",
    "version": 3
   },
   "file_extension": ".py",
   "mimetype": "text/x-python",
   "name": "python",
   "nbconvert_exporter": "python",
   "pygments_lexer": "ipython3",
   "version": "3.10.7"
  },
  "orig_nbformat": 4,
  "vscode": {
   "interpreter": {
    "hash": "369f2c481f4da34e4445cda3fffd2e751bd1c4d706f27375911949ba6bb62e1c"
   }
  }
 },
 "nbformat": 4,
 "nbformat_minor": 2
}
