{
 "cells": [
  {
   "cell_type": "code",
   "execution_count": 8,
   "metadata": {},
   "outputs": [],
   "source": [
    "import glob\n",
    "import json\n",
    "import re\n",
    "import plotly.graph_objs as go\n",
    "from typing import List\n",
    "from sklearn_object import SklearnObject\n",
    "from sklearn_object import get_key_value_pairs, check_for_default_values\n",
    "\n",
    "STATISTICS_DIR = \"data/statistics/\"\n",
    "SKL_MODULES_FILE = \"data/sklearn/modules/sklearn_modules.json\"\n",
    "ALL_PROJECTS = \"data/statistics/*\"\n"
   ]
  },
  {
   "cell_type": "code",
   "execution_count": 9,
   "metadata": {},
   "outputs": [],
   "source": [
    "with open(SKL_MODULES_FILE) as f:\n",
    "    skl_modules_json = json.load(f)"
   ]
  },
  {
   "cell_type": "code",
   "execution_count": 10,
   "metadata": {},
   "outputs": [
    {
     "name": "stdout",
     "output_type": "stream",
     "text": [
      "data/statistics/statistics_100DaysofMLCodeChallenge.json\n",
      "Regression/Multiple-Linear-Regression/multiple_linear_regression.py\n",
      "data/statistics/statistics_100DaysofMLCodeChallenge.json\n",
      "Regression/Polynomial-Regression/polynomial_regression.py\n",
      "data/statistics/statistics_100DaysofMLCodeChallenge.json\n",
      "Regression/Polynomial-Regression/polynomial_regression.py\n",
      "data/statistics/statistics_100DaysofMLCodeChallenge.json\n",
      "Regression/Simple-Linear-Regression/simple_linear_regression.py\n",
      "data/statistics/statistics_ECBM6040-Project.json\n",
      "utils/lane.py\n",
      "data/statistics/statistics_paper_boltzmann_generators.json\n",
      "software/deep_boltzmann/networks/plot.py\n"
     ]
    }
   ],
   "source": [
    "all_objects: List[SklearnObject] = []\n",
    "\n",
    "for project in glob.glob(ALL_PROJECTS):\n",
    "    \n",
    "    with open(project) as f:\n",
    "        project_json = json.load(f)\n",
    "\n",
    "        for key in project_json:\n",
    "            file = project_json[key]\n",
    "            if file:\n",
    "                for module in file:\n",
    "                    sklearn_object_parts = module.split(\"_\")\n",
    "                    name = sklearn_object_parts[0]\n",
    "                    if name == \"LinearRegression\":\n",
    "                        print(project)\n",
    "                        print(key)\n",
    "                    line_nr = sklearn_object_parts[1]\n",
    "                    option_data = get_key_value_pairs(file[module])\n",
    "                    final_option_data = check_for_default_values(name, option_data, skl_modules_json)\n",
    "                    all_objects.append(SklearnObject(name=name, file_name=file, line_nr=line_nr, options=final_option_data))\n"
   ]
  },
  {
   "cell_type": "code",
   "execution_count": 11,
   "metadata": {},
   "outputs": [],
   "source": [
    "results = {}\n",
    "\n",
    "modules = {module.name for module in all_objects}\n",
    "\n",
    "for module in modules:\n",
    "    default_counter = 0\n",
    "    custom_counter = 0\n",
    "    required_counter = 0\n",
    "    option_counter = 0\n",
    "    unknown_counter = 0\n",
    "    target_modules = list(filter(lambda x: x.name == module, all_objects)) \n",
    "    for target_module in target_modules:\n",
    "        for option in target_module.options:\n",
    "            option_counter += 1\n",
    "            if option[2] == \"default\":\n",
    "                default_counter += 1\n",
    "            if option[2] == \"custom\":\n",
    "                custom_counter += 1\n",
    "            if option[2] == \"required\":\n",
    "                required_counter += 1\n",
    "            if option[2] == \"unknown\":\n",
    "                unknown_counter += 1\n",
    "\n",
    "    results[module] = {\n",
    "        \"total\": option_counter,\n",
    "        \"default\": default_counter,\n",
    "        \"custom\": custom_counter,\n",
    "        \"required\": required_counter, \n",
    "        \"unknown\": unknown_counter,\n",
    "    }\n",
    "\n",
    "\n",
    "with open(\"data/modules_option_number.json\", \"w\") as f:\n",
    "    json.dump(results, f, sort_keys=True, indent=4)\n",
    "   "
   ]
  },
  {
   "cell_type": "code",
   "execution_count": 12,
   "metadata": {},
   "outputs": [
    {
     "name": "stdout",
     "output_type": "stream",
     "text": [
      "7\n",
      "['GaussianNB', 'MaxAbsScaler', 'MultiLabelBinarizer', 'LabelBinarizer', 'LeaveOneGroupOut', 'LinearRegression', 'LabelEncoder']\n"
     ]
    }
   ],
   "source": [
    "modules_without_options = []\n",
    "\n",
    "for key in results:\n",
    "    module = results[key]\n",
    "    if module[\"total\"] == 0:\n",
    "        modules_without_options.append(key)\n",
    "\n",
    "print(len(modules_without_options))\n",
    "print(modules_without_options)"
   ]
  }
 ],
 "metadata": {
  "interpreter": {
   "hash": "916dbcbb3f70747c44a77c7bcd40155683ae19c65e1c03b4aa3499c5328201f1"
  },
  "kernelspec": {
   "display_name": "Python 3.8.5 64-bit",
   "language": "python",
   "name": "python3"
  },
  "language_info": {
   "codemirror_mode": {
    "name": "ipython",
    "version": 3
   },
   "file_extension": ".py",
   "mimetype": "text/x-python",
   "name": "python",
   "nbconvert_exporter": "python",
   "pygments_lexer": "ipython3",
   "version": "3.8.5"
  },
  "orig_nbformat": 4
 },
 "nbformat": 4,
 "nbformat_minor": 2
}
