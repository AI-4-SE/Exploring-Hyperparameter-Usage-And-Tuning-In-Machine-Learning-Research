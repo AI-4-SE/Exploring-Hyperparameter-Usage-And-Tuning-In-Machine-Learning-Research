{
 "cells": [
  {
   "cell_type": "code",
   "execution_count": 34,
   "metadata": {},
   "outputs": [],
   "source": [
    "import glob\n",
    "import json\n",
    "import pandas as pd\n",
    "\n",
    "SKLEARN_DATA = \"../data/sklearn/modules/sklearn_modules.json\"\n",
    "\n",
    "ALL_SKLEARN_PROJECTS = \"statistics/sklearn/statistics/*\"\n",
    "ALL_TENSORFLOW_PROJECTS = \"statistics/tensorflow/statistics/*\"\n",
    "ALL_PYTORCH_PROJECTS = \"statistics/pytorch/statistics/*\""
   ]
  },
  {
   "cell_type": "code",
   "execution_count": 35,
   "metadata": {},
   "outputs": [],
   "source": [
    "with open(SKLEARN_DATA, \"r\", encoding=\"utf-8\") as sklearn_file:\n",
    "    sklearn_data = json.load(sklearn_file)\n",
    "\n",
    "data = []\n",
    "\n",
    "for project in glob.glob(ALL_SKLEARN_PROJECTS):\n",
    "    project_name = project.split(\"\\\\\")[-1].split(\".\")[0]\n",
    "    project_name = project_name.replace(\"statistics_\", \"\")\n",
    "\n",
    "    with open(project, \"r\", encoding=\"utf-8\") as project_file:\n",
    "        project_data = json.load(project_file)\n",
    "\n",
    "    for file in project_data:\n",
    "        file_data = project_data[file]\n",
    "\n",
    "        for module in file_data:\n",
    "            module_name = module.split(\"_\")[0]\n",
    "            module_data = file_data[module]\n",
    "\n",
    "            sklearn_module = next(filter(lambda x: x[\"name\"] == module_name, sklearn_data))\n",
    "\n",
    "            total_options = len(sklearn_module[\"params\"])\n",
    "\n",
    "            if module_name == \"KMeans\":\n",
    "                data.append({\n",
    "                    \"project\": project_name,\n",
    "                    \"total_options\": total_options,\n",
    "                    \"options_used\": len(module_data),\n",
    "                    \"portion\": len(module_data)/total_options\n",
    "                })"
   ]
  },
  {
   "cell_type": "code",
   "execution_count": 36,
   "metadata": {},
   "outputs": [
    {
     "name": "stdout",
     "output_type": "stream",
     "text": [
      "{'OneHotEncoder', 'AgglomerativeClustering', 'LinearSVC', 'StratifiedKFold', 'BayesianGaussianMixture', 'PCA', 'MinMaxScaler', 'StandardScaler', 'Ridge', 'LabelEncoder', 'LinearRegression', 'KMeans', 'LatentDirichletAllocation', 'HuberRegressor', 'LabelBinarizer', 'MeanShift', 'TfidfVectorizer', 'KDTree', 'GridSearchCV', 'DecisionTreeClassifier', 'MaxAbsScaler', 'LeaveOneGroupOut', 'GaussianNB', 'SVC', 'RandomForestClassifier', 'NearestNeighbors', 'GroupKFold', 'KFold', 'TruncatedSVD', 'MultiLabelBinarizer', 'KernelDensity', 'GaussianMixture', 'SVR', 'DBSCAN', 'MLPClassifier', 'PolynomialFeatures', 'ParameterSampler', 'Lasso', 'KernelPCA', 'LogisticRegression', 'TSNE', 'KNeighborsClassifier', 'DecisionTreeRegressor', 'GaussianProcessRegressor', 'RandomForestRegressor', 'CountVectorizer'}\n"
     ]
    }
   ],
   "source": [
    "modules = set()\n",
    "\n",
    "for project in glob.glob(ALL_SKLEARN_PROJECTS):\n",
    "    project_name = project.split(\"\\\\\")[-1].split(\".\")[0]\n",
    "    project_name = project_name.replace(\"statistics_\", \"\")\n",
    "\n",
    "    with open(project, \"r\", encoding=\"utf-8\") as project_file:\n",
    "        project_data = json.load(project_file)\n",
    "\n",
    "    for file in project_data:\n",
    "        file_data = project_data[file]\n",
    "\n",
    "        for module in file_data:\n",
    "            module_name = module.split(\"_\")[0]\n",
    "            modules.add(module_name)\n",
    "\n",
    "\n",
    "print(modules)\n"
   ]
  },
  {
   "cell_type": "code",
   "execution_count": 37,
   "metadata": {},
   "outputs": [],
   "source": [
    "all_data = {}\n",
    "\n",
    "for name in modules:\n",
    "    data = []\n",
    "\n",
    "    for project in glob.glob(ALL_SKLEARN_PROJECTS):\n",
    "        project_name = project.split(\"\\\\\")[-1].split(\".\")[0]\n",
    "        project_name = project_name.replace(\"statistics_\", \"\")\n",
    "\n",
    "        with open(project, \"r\", encoding=\"utf-8\") as project_file:\n",
    "            project_data = json.load(project_file)\n",
    "\n",
    "        for file in project_data:\n",
    "            file_data = project_data[file]\n",
    "\n",
    "            for module in file_data:\n",
    "                default_counter = 0\n",
    "                custom_counter = 0\n",
    "                module_name = module.split(\"_\")[0]\n",
    "                module_data = file_data[module]\n",
    "\n",
    "                sklearn_module = next(filter(lambda x: x[\"name\"] == module_name, sklearn_data))\n",
    "\n",
    "                total_options = len(sklearn_module[\"params\"])\n",
    "\n",
    "                if module_name == name:\n",
    "                    if module_data:\n",
    "                        for option in module_data:\n",
    "                            try:\n",
    "                                param = next(filter(lambda x: x[0] == option, sklearn_module[\"params\"]))\n",
    "                                default_value = param[1].split(\"=\")[-1]\n",
    "                                option_value = module_data[option]   \n",
    "                                if default_value == option_value:\n",
    "                                    default_counter += 1\n",
    "                                else:\n",
    "                                    custom_counter +=1\n",
    "                            except:\n",
    "                                custom_counter +=1\n",
    "\n",
    "                    data.append({\n",
    "                        \"project\": project_name,\n",
    "                        \"file\": file,\n",
    "                        \"total_options\": total_options,\n",
    "                        \"options_used\": len(module_data),\n",
    "                        \"defualt_options_used\": default_counter,\n",
    "                        \"custom_options_used\": custom_counter\n",
    "                    })\n",
    "\n",
    "    all_data[name] = data\n",
    "\n",
    "\n",
    "with open(\"sklearn_modules_data.json\", \"w\") as outfile:\n",
    "    json.dump(all_data, outfile, sort_keys=True, indent=4)"
   ]
  }
 ],
 "metadata": {
  "interpreter": {
   "hash": "9b15ceb2e1c319abb5a3a14f1ef1bcbce2ee8dd1c77d2c4e6466e97ae1997d13"
  },
  "kernelspec": {
   "display_name": "Python 3.9.0 64-bit",
   "language": "python",
   "name": "python3"
  },
  "language_info": {
   "codemirror_mode": {
    "name": "ipython",
    "version": 3
   },
   "file_extension": ".py",
   "mimetype": "text/x-python",
   "name": "python",
   "nbconvert_exporter": "python",
   "pygments_lexer": "ipython3",
   "version": "3.9.0"
  },
  "orig_nbformat": 4
 },
 "nbformat": 4,
 "nbformat_minor": 2
}
