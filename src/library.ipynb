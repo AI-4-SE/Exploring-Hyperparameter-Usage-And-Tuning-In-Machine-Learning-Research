{
 "cells": [
  {
   "cell_type": "code",
   "execution_count": 16,
   "metadata": {},
   "outputs": [],
   "source": [
    "import pandas as pd\n",
    "import json\n",
    "import glob\n",
    "from collections import Counter"
   ]
  },
  {
   "cell_type": "code",
   "execution_count": 17,
   "metadata": {},
   "outputs": [],
   "source": [
    "def get_library_classes(library_name: str, library_data_dir, project_dir: str) -> pd.DataFrame:\n",
    "    with open(library_data_dir, \"r\", encoding=\"utf-8\") as sklearn_file:\n",
    "        library_data = json.load(sklearn_file)\n",
    "\n",
    "    classes = []\n",
    "\n",
    "    for project in glob.glob(project_dir):\n",
    "        with open(project, \"r\", encoding=\"utf-8\") as project_file:\n",
    "            project_data = json.load(project_file)\n",
    "\n",
    "            for file in project_data.keys():\n",
    "                file_data = project_data[file]\n",
    "                for library in file_data.keys():\n",
    "                    if library == library_name:\n",
    "                        module_data = file_data[library]\n",
    "                        for key, value in module_data.items():\n",
    "                            if key[0].isupper():\n",
    "                                class_name = key.split(\"_\")[0]\n",
    "                                if \"base_class_0\" in value:\n",
    "                                    continue\n",
    "                                classes.append(class_name)\n",
    "\n",
    "    class_data = Counter(classes)\n",
    "    df_classes = pd.DataFrame.from_dict(class_data, orient=\"index\").reset_index()\n",
    "    df_classes = df_classes.rename(columns={'index':'Class', 0:'Count'})\n",
    "    df_classes = df_classes.sort_values(by=['Count'], ascending=False)\n",
    "\n",
    "    return df_classes\n"
   ]
  },
  {
   "cell_type": "code",
   "execution_count": 18,
   "metadata": {},
   "outputs": [],
   "source": [
    "def get_library_methods(library_name: str, data_dir: str) -> pd.DataFrame:\n",
    "    pass"
   ]
  },
  {
   "cell_type": "code",
   "execution_count": 19,
   "metadata": {},
   "outputs": [],
   "source": [
    "def df_to_latex(df: pd.DataFrame, row_number) -> None:\n",
    "    df = df[:row_number]\n",
    "    print(df.to_latex(index=False))"
   ]
  },
  {
   "cell_type": "code",
   "execution_count": 20,
   "metadata": {},
   "outputs": [
    {
     "name": "stdout",
     "output_type": "stream",
     "text": [
      "\\begin{tabular}{lr}\n",
      "\\toprule\n",
      "                  Class &  Count \\\\\n",
      "\\midrule\n",
      "                 Conv2d &   1474 \\\\\n",
      "                 Linear &   1116 \\\\\n",
      "                   ReLU &   1110 \\\\\n",
      "             Sequential &    923 \\\\\n",
      "             DataLoader &    888 \\\\\n",
      "            BatchNorm2d &    496 \\\\\n",
      "                   Adam &    353 \\\\\n",
      "             ModuleList &    342 \\\\\n",
      "       CrossEntropyLoss &    342 \\\\\n",
      "              Parameter &    339 \\\\\n",
      "                 Tensor &    305 \\\\\n",
      "                Dropout &    273 \\\\\n",
      "              LeakyReLU &    223 \\\\\n",
      "           DataParallel &    195 \\\\\n",
      "              MaxPool2d &    173 \\\\\n",
      "                    SGD &    153 \\\\\n",
      "              Embedding &    136 \\\\\n",
      "            BatchNorm1d &    134 \\\\\n",
      "        ConvTranspose2d &    121 \\\\\n",
      "                MSELoss &    121 \\\\\n",
      "          TensorDataset &    103 \\\\\n",
      "                Sigmoid &     95 \\\\\n",
      "                Softmax &     90 \\\\\n",
      "               Upsample &     87 \\\\\n",
      "     DistributedSampler &     85 \\\\\n",
      "              LayerNorm &     84 \\\\\n",
      "DistributedDataParallel &     67 \\\\\n",
      "              AvgPool2d &     67 \\\\\n",
      "                   Tanh &     63 \\\\\n",
      "          RandomSampler &     58 \\\\\n",
      "\\bottomrule\n",
      "\\end{tabular}\n",
      "\n"
     ]
    }
   ],
   "source": [
    "df = get_library_classes(\"torch\", \"modules/tensorflow_default_values.json\", \"statistics/*\")\n",
    "df_to_latex(df=df, row_number=30)"
   ]
  }
 ],
 "metadata": {
  "kernelspec": {
   "display_name": "Python 3.9.0 64-bit",
   "language": "python",
   "name": "python3"
  },
  "language_info": {
   "codemirror_mode": {
    "name": "ipython",
    "version": 3
   },
   "file_extension": ".py",
   "mimetype": "text/x-python",
   "name": "python",
   "nbconvert_exporter": "python",
   "pygments_lexer": "ipython3",
   "version": "3.9.0"
  },
  "orig_nbformat": 4,
  "vscode": {
   "interpreter": {
    "hash": "baf69434822515d6eb5706280ed4fdf1abcb6899576a97bde367cb051faeb565"
   }
  }
 },
 "nbformat": 4,
 "nbformat_minor": 2
}
